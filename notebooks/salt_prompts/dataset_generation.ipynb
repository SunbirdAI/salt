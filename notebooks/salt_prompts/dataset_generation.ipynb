{
 "cells": [
  {
   "cell_type": "markdown",
   "id": "e3851a72-5b62-4758-b12f-f96209797aa7",
   "metadata": {},
   "source": [
    "- https://huggingface.co/docs/datasets/en/create_dataset\n",
    "- https://huggingface.co/docs/datasets/en/dataset_script"
   ]
  },
  {
   "cell_type": "markdown",
   "id": "4dff7d06-410a-4665-b00d-74056a776822",
   "metadata": {},
   "source": [
    "# Generating prompts dataset and uploading to huggingface"
   ]
  },
  {
   "cell_type": "code",
   "execution_count": null,
   "id": "e324f55e-2aaf-4a8a-8c09-9fa90a6b768d",
   "metadata": {},
   "outputs": [],
   "source": [
    "!pip install -q datasets"
   ]
  },
  {
   "cell_type": "code",
   "execution_count": 3,
   "id": "fa615046-4f0b-4462-adac-6cbbcefdccd7",
   "metadata": {},
   "outputs": [],
   "source": [
    "import pandas as pd"
   ]
  },
  {
   "cell_type": "code",
   "execution_count": 116,
   "id": "1523e85d-efaf-4ca0-b4f0-d8dc91227b29",
   "metadata": {},
   "outputs": [],
   "source": [
    "prompts_df = pd.read_csv(\"prompts_dataset/prompts.csv\")"
   ]
  },
  {
   "cell_type": "code",
   "execution_count": null,
   "id": "510f15f8-a6df-4652-beb7-59e14af6d67a",
   "metadata": {},
   "outputs": [],
   "source": [
    "prompts_df.head(10)"
   ]
  },
  {
   "cell_type": "code",
   "execution_count": null,
   "id": "059274df-f55a-47a5-a6a2-3565877dd30d",
   "metadata": {},
   "outputs": [],
   "source": [
    "prompts_df.shape"
   ]
  },
  {
   "cell_type": "code",
   "execution_count": null,
   "id": "4c8a6b52-96c2-4254-8dad-ef27625d4094",
   "metadata": {},
   "outputs": [],
   "source": [
    "list(prompts_df.columns)"
   ]
  },
  {
   "cell_type": "code",
   "execution_count": null,
   "id": "5ddbe0c5-82fb-4b1b-8d7e-bbf5bdb622b4",
   "metadata": {},
   "outputs": [],
   "source": [
    "prompts_df = prompts_df.drop_duplicates(subset=['id'])\n",
    "prompts_df.shape"
   ]
  },
  {
   "cell_type": "code",
   "execution_count": 9,
   "id": "17e2f046-1a75-4b42-9d16-ab8995cd453e",
   "metadata": {},
   "outputs": [],
   "source": [
    "prompts_df.to_csv('prompts_dataset/prompts.csv', index=False)"
   ]
  },
  {
   "cell_type": "markdown",
   "id": "5aa80b70-8ebf-4aec-af13-7f5dd7885014",
   "metadata": {},
   "source": [
    "## Creating dataset and push to huuggingface"
   ]
  },
  {
   "cell_type": "code",
   "execution_count": 10,
   "id": "3ed92507-58d9-4c38-a556-16a2afeb9518",
   "metadata": {},
   "outputs": [],
   "source": [
    "from datasets import load_dataset"
   ]
  },
  {
   "cell_type": "code",
   "execution_count": null,
   "id": "642b4e68-6aa3-4858-bb37-7e83a976e805",
   "metadata": {},
   "outputs": [],
   "source": [
    "ds = load_dataset(\"csv\", data_files=\"prompts_dataset/prompts.csv\")"
   ]
  },
  {
   "cell_type": "code",
   "execution_count": null,
   "id": "89e9c3f1-e4f5-4451-97a4-b1ae13e0fe3b",
   "metadata": {},
   "outputs": [],
   "source": [
    "ds"
   ]
  },
  {
   "cell_type": "code",
   "execution_count": null,
   "id": "bdf6b3c5-f838-4404-86f9-0c8040312802",
   "metadata": {},
   "outputs": [],
   "source": [
    "!pip install -q huggingface_hub"
   ]
  },
  {
   "cell_type": "code",
   "execution_count": 19,
   "id": "8097299a-6326-4065-973b-d5b3b6a67406",
   "metadata": {},
   "outputs": [],
   "source": [
    "import huggingface_hub"
   ]
  },
  {
   "cell_type": "code",
   "execution_count": null,
   "id": "595bfe03-8890-4bdb-a97c-86caf296a924",
   "metadata": {},
   "outputs": [],
   "source": [
    "huggingface_hub.notebook_login()"
   ]
  },
  {
   "cell_type": "code",
   "execution_count": null,
   "id": "3c8fd2a0-c8aa-4224-b6b2-f4adf7b47e74",
   "metadata": {},
   "outputs": [],
   "source": [
    "ds.push_to_hub(\"Sunbird/prompts\")"
   ]
  },
  {
   "cell_type": "code",
   "execution_count": null,
   "id": "1e07489f-9a6f-4404-8267-81641e939182",
   "metadata": {},
   "outputs": [],
   "source": []
  },
  {
   "cell_type": "markdown",
   "id": "ea9b7818",
   "metadata": {},
   "source": [
    "### Testing out pushed dataset to huggingface locally"
   ]
  },
  {
   "cell_type": "code",
   "execution_count": null,
   "id": "a15a2c97-6255-4966-a9d7-3faa7af2aa50",
   "metadata": {},
   "outputs": [],
   "source": [
    "ds_prompts = load_dataset(\"Sunbird/prompts\")"
   ]
  },
  {
   "cell_type": "code",
   "execution_count": 124,
   "id": "bb4d2e6e-3aaf-4f54-8337-ab204192a08e",
   "metadata": {},
   "outputs": [],
   "source": [
    "ds_prompts = ds_prompts[\"train\"].to_pandas()"
   ]
  },
  {
   "cell_type": "code",
   "execution_count": null,
   "id": "2d26fe8d-0a03-445d-852a-05cbc83cad2a",
   "metadata": {},
   "outputs": [],
   "source": [
    "ds_prompts.head()"
   ]
  },
  {
   "cell_type": "code",
   "execution_count": null,
   "id": "40d742b3-e305-4a25-ae45-b3757581e1a4",
   "metadata": {},
   "outputs": [],
   "source": [
    "ds_prompts.shape"
   ]
  },
  {
   "cell_type": "code",
   "execution_count": null,
   "id": "dca89064-4622-4b0e-befe-8083a0fbe5dc",
   "metadata": {},
   "outputs": [],
   "source": []
  },
  {
   "cell_type": "code",
   "execution_count": null,
   "id": "cf2e4a0b-d161-4497-b600-af46fa1abd5c",
   "metadata": {},
   "outputs": [],
   "source": []
  }
 ],
 "metadata": {
  "kernelspec": {
   "display_name": "Python 3 (ipykernel)",
   "language": "python",
   "name": "python3"
  },
  "language_info": {
   "codemirror_mode": {
    "name": "ipython",
    "version": 3
   },
   "file_extension": ".py",
   "mimetype": "text/x-python",
   "name": "python",
   "nbconvert_exporter": "python",
   "pygments_lexer": "ipython3",
   "version": "3.11.9"
  }
 },
 "nbformat": 4,
 "nbformat_minor": 5
}
