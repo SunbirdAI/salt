{
 "cells": [
  {
   "cell_type": "markdown",
   "metadata": {
    "id": "pld_rq1XtZbd"
   },
   "source": [
    "## Sunbird ASR evaluation\n",
    "\n",
    "Application of the fine-tuned Whisper pipeline to the `ucfd_lug` and `ucfd_eng` test splits in [salt-practical-eval](https://huggingface.co/datasets/Sunbird/salt-practical-eval)."
   ]
  },
  {
   "cell_type": "code",
   "execution_count": null,
   "metadata": {
    "id": "wDEFy_3U0OB3"
   },
   "outputs": [],
   "source": [
    "!pip install -q datasets\n",
    "!pip install -q evaluate jiwer\n",
    "!pip install -q transformers\n",
    "!pip install -q librosa\n",
    "!pip install -q soundfile"
   ]
  },
  {
   "cell_type": "code",
   "execution_count": null,
   "metadata": {
    "id": "ThhtZdrE00cJ"
   },
   "outputs": [],
   "source": [
    "import os\n",
    "import json\n",
    "import string\n",
    "import pandas as pd\n",
    "import torch\n",
    "import transformers\n",
    "import datasets\n",
    "from evaluate import load\n",
    "import huggingface_hub\n",
    "import tqdm.notebook as tqdm\n",
    "import transformers"
   ]
  },
  {
   "cell_type": "code",
   "execution_count": null,
   "metadata": {},
   "outputs": [],
   "source": [
    "huggingface_hub.notebook_login()"
   ]
  },
  {
   "cell_type": "markdown",
   "metadata": {},
   "source": [
    "Helper functions for text normalisation. TODO: move these to salt.metrics"
   ]
  },
  {
   "cell_type": "code",
   "execution_count": null,
   "metadata": {
    "id": "M9HqCibnNx82"
   },
   "outputs": [],
   "source": [
    "def _normalise_item(s, allowed_punctuation=\"'\"):\n",
    "  '''Convert a list of strings by converting to lower case and removing\n",
    "  punctuation. This helps when calculating WER, as we're interested in which\n",
    "  words were predicted more than the capitalisation or punctuation.'''\n",
    "  s = s.lower()\n",
    "  punct = list(string.punctuation)\n",
    "  if allowed_punctuation:\n",
    "      for allowed in allowed_punctuation:\n",
    "          punct.remove(allowed)\n",
    "  result_chars = []\n",
    "  for c in s:\n",
    "    if c not in punct:\n",
    "      result_chars.append(c)\n",
    "    else:\n",
    "      result_chars.append(' ')\n",
    "  return ''.join(result_chars)\n",
    "\n",
    "def normalise(s, allowed_punctuation=\"'\"):\n",
    "    if isinstance(s, list):\n",
    "        return [_normalise_item(item, allowed_punctuation) for item in s]\n",
    "    else:\n",
    "        return _normalise_item(s, allowed_punctuation)"
   ]
  },
  {
   "cell_type": "markdown",
   "metadata": {},
   "source": [
    "Load the model and set up an ASR pipeline"
   ]
  },
  {
   "cell_type": "code",
   "execution_count": null,
   "metadata": {
    "colab": {
     "base_uri": "https://localhost:8080/"
    },
    "id": "N6IdhCg22ay-",
    "outputId": "82eeee67-ebe1-4677-8854-6320c82f79cd"
   },
   "outputs": [],
   "source": [
    "device = \"cuda\" if torch.cuda.is_available() else \"cpu\"\n",
    "\n",
    "whisper_pipeline = transformers.pipeline(\n",
    "    \"automatic-speech-recognition\",\n",
    "    model = \"jq/whisper-medium-lug-eng\",\n",
    "    device = device,\n",
    ")\n",
    "\n",
    "wer_metric = datasets.load_metric(\"wer\", trust_remote_code=True)"
   ]
  },
  {
   "cell_type": "markdown",
   "metadata": {},
   "source": [
    "### Calculate the WER metric for each subset.\n",
    "\n",
    "(TODO: Decide if CER might make more sense here)\n",
    "\n",
    "The best word error rates seen so far are:\n",
    "\n",
    "* English: 0.521\n",
    "* Luganda: 0.828"
   ]
  },
  {
   "cell_type": "code",
   "execution_count": null,
   "metadata": {
    "colab": {
     "base_uri": "https://localhost:8080/"
    },
    "id": "eoWOFi7tVdnV",
    "outputId": "7a3dc81c-9149-400a-e193-8812697b943b"
   },
   "outputs": [],
   "source": [
    "generate_kwargs = {\n",
    "    \"task\": \"transcribe\",\n",
    "    \"language\": None,\n",
    "    \"forced_decoder_ids\": None,\n",
    "    \"max_new_tokens\": 200,\n",
    "}\n",
    "\n",
    "for subset in [\"ucfd_eng\", \"ucfd_lug\"]:\n",
    "    eval_dataset = datasets.load_dataset(\"Sunbird/salt-practical-eval\", subset, split=\"test\")\n",
    "    predictions = []\n",
    "    references = []\n",
    "    \n",
    "    for example in tqdm.tqdm(eval_dataset):\n",
    "        # Get the audio file from the 'audio' feature\n",
    "        audio_input = example[\"audio\"]\n",
    "        references.append(example[\"text\"])\n",
    "    \n",
    "        # Use the ASR pipeline to get the transcription\n",
    "        transcription = whisper_pipeline(audio_input, generate_kwargs=generate_kwargs)[\"text\"]\n",
    "        predictions.append(transcription)\n",
    "        \n",
    "    wer_score = wer_metric.compute(\n",
    "        predictions=normalise(predictions), references=normalise(references))\n",
    "    \n",
    "    print(f\"{subset } WER: {wer_score:.3f}\")"
   ]
  },
  {
   "cell_type": "markdown",
   "metadata": {},
   "source": [
    "Example of adding prompt IDs to give the model context. In practice, this seems on average to make the predictions worse."
   ]
  },
  {
   "cell_type": "code",
   "execution_count": null,
   "metadata": {
    "id": "nxaAWK_x2k2U"
   },
   "outputs": [],
   "source": [
    "# Variant 1, try adding domain-specific vocabulary.\n",
    "prompt_ids = whisper_pipeline.tokenizer.get_prompt_ids(\n",
    "    'dfcu, Quick Banking app, QuickApp, Quick Online, Quick Banking platform, '\n",
    "    'dfcu Personal Banking, mobile app, App store, Google Play Store, '\n",
    "    'dfcu Quick Online, Quick Connect, internet banking, mobile banking, '\n",
    "    'smartphone, national ID, passport, trust factor, Pinnacle Current Account,'\n",
    "    ' dfcu SACCO account, savings account, Dembe account, Smart Plan account, '\n",
    "    'Campus Plus account, Young Savers account, investment club account, '\n",
    "    'joint account, Secondary Account Ku-Spot, personal loan, mobi loan, save '\n",
    "    'for loan, home loan, agent banking, banking security, '\n",
    "    '6th Street, Abayita Ababiri, Bugolobi, Bwaise, Entebbe Road, Impala, '\n",
    "    'Jinja Road, Kampala Road, Kawempe, Kikuubo, Kireka, Kyadondo, Kyambogo, '\n",
    "    'Lugogo, Makerere, Market Street, Naalya, Nabugabo, Sun City, Acacia, '\n",
    "    'Entebbe Town, Kyengera, Luwum Street, Nateete, Ndeeba, Nsambya, Ntinda '\n",
    "    'Shopping Centre (Capital Shoppers), Ntinda Trading Centre, Owino, '\n",
    "    'William Street, Abim, Arua, Dokolo, Gulu, Hoima, Ibanda, Iganga, Ishaka, '\n",
    "    'Isingiro, Jinja, Kabale, Kisoro, Kitgum, Lira, Luweero, Lyantonde, '\n",
    "    'Masaka, Mbale, Mbarara, Mukono, Ntungamo, Pader, Pallisa, Rushere, '\n",
    "    'Soroti, Tororo',\n",
    "    return_tensors='pt',\n",
    ").to('cuda')\n",
    "\n",
    "# Variant 2, try to set the context.\n",
    "prompt_ids = whisper_pipeline.tokenizer.get_prompt_ids(\n",
    "    'Thank you for calling dfcu bank. ',\n",
    "    return_tensors='pt',\n",
    ").to('cuda')\n",
    "\n",
    "# Then call the pipeline with prompts specified as follows.\n",
    "generate_kwargs = {\n",
    "    \"prompt_ids\": prompt_ids,\n",
    "    \"prompt_condition_type\": \"first-segment\",\n",
    "    \"condition_on_prev_tokens\": True,\n",
    "    \"task\": \"transcribe\",\n",
    "    \"language\": None,\n",
    "    \"forced_decoder_ids\": None,\n",
    "    \"max_new_tokens\": 200,\n",
    "}"
   ]
  },
  {
   "cell_type": "code",
   "execution_count": null,
   "metadata": {
    "id": "r2B5RrtvINSD"
   },
   "outputs": [],
   "source": []
  }
 ],
 "metadata": {
  "accelerator": "GPU",
  "colab": {
   "gpuType": "T4",
   "provenance": []
  },
  "kernelspec": {
   "display_name": "Python 3 (ipykernel)",
   "language": "python",
   "name": "python3"
  },
  "language_info": {
   "codemirror_mode": {
    "name": "ipython",
    "version": 3
   },
   "file_extension": ".py",
   "mimetype": "text/x-python",
   "name": "python",
   "nbconvert_exporter": "python",
   "pygments_lexer": "ipython3",
   "version": "3.10.13"
  }
 },
 "nbformat": 4,
 "nbformat_minor": 4
}
