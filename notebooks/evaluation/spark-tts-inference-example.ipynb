{
 "cells": [
  {
   "cell_type": "code",
   "execution_count": null,
   "id": "7052ccad-8b3d-4e65-9b22-93852633f45d",
   "metadata": {},
   "outputs": [],
   "source": [
    "!pip install -qU xformers transformers \n",
    "!pip install -q unsloth\n",
    "!git clone https://github.com/SparkAudio/Spark-TTS\n",
    "!pip install -q omegaconf einx einops soundfile librosa"
   ]
  },
  {
   "cell_type": "code",
   "execution_count": null,
   "id": "93c74e54-d9f4-4fe6-8c27-47897bf9d8ac",
   "metadata": {},
   "outputs": [],
   "source": [
    "import tqdm.notebook as tqdm\n",
    "from unsloth import FastModel\n",
    "from transformers import CsmForConditionalGeneration\n",
    "import torch\n",
    "import datasets\n",
    "from IPython.display import Audio, display\n",
    "from huggingface_hub import snapshot_download\n",
    "from huggingface_hub import hf_hub_download\n",
    "import torch\n",
    "import re\n",
    "import numpy as np\n",
    "from typing import Dict, Any\n",
    "import torchaudio.transforms as T"
   ]
  },
  {
   "cell_type": "code",
   "execution_count": null,
   "id": "be345faf-4a72-42f5-8413-5e4a808d47f3",
   "metadata": {},
   "outputs": [],
   "source": [
    "# Get the base Spark-TTS repo\n",
    "snapshot_download(\"unsloth/Spark-TTS-0.5B\", local_dir = \"Spark-TTS-0.5B\")\n",
    "# And overwrite the model with the one we fine-tuned for Ugandan languages\n",
    "model_local_path = hf_hub_download(repo_id=\"jq/spark-tts-salt\", filename=\"model.safetensors\")\n",
    "!mv {model_local_path} Spark-TTS-0.5B/LLM/"
   ]
  },
  {
   "cell_type": "code",
   "execution_count": null,
   "id": "e4fd4f1d-dcb3-4041-aae7-297035e83275",
   "metadata": {},
   "outputs": [],
   "source": [
    "model, tokenizer = FastModel.from_pretrained(\n",
    "    model_name = f\"Spark-TTS-0.5B/LLM\",\n",
    "    max_seq_length = 2048,\n",
    "    dtype = torch.float32, \n",
    "    full_finetuning = True,\n",
    "    load_in_4bit = False,\n",
    ")"
   ]
  },
  {
   "cell_type": "code",
   "execution_count": null,
   "id": "be1d6e28-20a1-44d6-b6b5-cd390b1f25c6",
   "metadata": {},
   "outputs": [],
   "source": [
    "import sys\n",
    "sys.path.append('Spark-TTS')\n",
    "from sparktts.models.audio_tokenizer import BiCodecTokenizer\n",
    "from sparktts.utils.audio import audio_volume_normalize\n",
    "\n",
    "audio_tokenizer = BiCodecTokenizer(\"Spark-TTS-0.5B\", \"cuda\")"
   ]
  },
  {
   "cell_type": "code",
   "execution_count": null,
   "id": "96e77c52-f0bd-4861-b559-b2b9fba02417",
   "metadata": {},
   "outputs": [],
   "source": [
    "FastModel.for_inference(model) # Enable native 2x faster inference\n",
    "\n",
    "@torch.inference_mode()\n",
    "def generate_speech_from_text(\n",
    "    text: str,\n",
    "    temperature: float = 0.8,   # Generation temperature\n",
    "    top_k: int = 50,            # Generation top_k\n",
    "    top_p: float = 1,        # Generation top_p\n",
    "    max_new_audio_tokens: int = 2048, # Max tokens for audio part\n",
    "    device: torch.device = torch.device(\"cuda\" if torch.cuda.is_available() else \"cpu\")\n",
    ") -> np.ndarray:\n",
    "    \"\"\"\n",
    "    Generates speech audio from text using default voice control parameters.\n",
    "\n",
    "    Args:\n",
    "        text (str): The text input to be converted to speech.\n",
    "        temperature (float): Sampling temperature for generation.\n",
    "        top_k (int): Top-k sampling parameter.\n",
    "        top_p (float): Top-p (nucleus) sampling parameter.\n",
    "        max_new_audio_tokens (int): Max number of new tokens to generate (limits audio length).\n",
    "        device (torch.device): Device to run inference on.\n",
    "\n",
    "    Returns:\n",
    "        np.ndarray: Generated waveform as a NumPy array.\n",
    "    \"\"\"\n",
    "\n",
    "    prompt = \"\".join([\n",
    "        \"<|task_tts|>\",\n",
    "        \"<|start_content|>\",\n",
    "        text,\n",
    "        \"<|end_content|>\",\n",
    "        \"<|start_global_token|>\"\n",
    "    ])\n",
    "    \n",
    "    model_inputs = tokenizer([prompt], return_tensors=\"pt\").to(device)\n",
    "\n",
    "    generated_ids = model.generate(\n",
    "        **model_inputs,\n",
    "        max_new_tokens=max_new_audio_tokens, # Limit generation length\n",
    "        do_sample=True,\n",
    "        temperature=temperature,\n",
    "        top_k=top_k,\n",
    "        top_p=top_p,\n",
    "        eos_token_id=tokenizer.eos_token_id, # Stop token\n",
    "        pad_token_id=tokenizer.pad_token_id # Use models pad token id\n",
    "    )\n",
    "\n",
    "    generated_ids_trimmed = generated_ids[:, model_inputs.input_ids.shape[1]:]\n",
    "\n",
    "    predicts_text = tokenizer.batch_decode(generated_ids_trimmed, skip_special_tokens=False)[0]\n",
    "\n",
    "    # Extract semantic token IDs using regex\n",
    "    semantic_matches = re.findall(r\"<\\|bicodec_semantic_(\\d+)\\|>\", predicts_text)\n",
    "    if not semantic_matches:\n",
    "        print(\"Warning: No semantic tokens found in the generated output.\")\n",
    "        # Handle appropriately - perhaps return silence or raise error\n",
    "        return np.array([], dtype=np.float32)\n",
    "\n",
    "    pred_semantic_ids = torch.tensor([int(token) for token in semantic_matches]).long().unsqueeze(0) # Add batch dim\n",
    "\n",
    "    # Extract global token IDs using regex (assuming controllable mode also generates these)\n",
    "    global_matches = re.findall(r\"<\\|bicodec_global_(\\d+)\\|>\", predicts_text)\n",
    "    if not global_matches:\n",
    "         print(\"Warning: No global tokens found in the generated output (controllable mode). Might use defaults or fail.\")\n",
    "         pred_global_ids = torch.zeros((1, 1), dtype=torch.long)\n",
    "    else:\n",
    "         pred_global_ids = torch.tensor([int(token) for token in global_matches]).long().unsqueeze(0) # Add batch dim\n",
    "\n",
    "    pred_global_ids = pred_global_ids.unsqueeze(0) # Shape becomes (1, 1, N_global)\n",
    "\n",
    "    return pred_global_ids, pred_semantic_ids"
   ]
  },
  {
   "cell_type": "code",
   "execution_count": null,
   "id": "5845d580-0f49-403c-ab2b-980a21d74c0a",
   "metadata": {},
   "outputs": [],
   "source": [
    "# Speaker IDs:\n",
    "# 241: Acholi (female)\n",
    "# 242: Ateso (female)\n",
    "# 243: Runyankore (female)\n",
    "# 245: Lugbara (female)\n",
    "# 246: Swahili (male)\n",
    "# 248: Luganda (female)"
   ]
  },
  {
   "cell_type": "code",
   "execution_count": null,
   "id": "fa46d36f-7616-4968-a462-ad5c887ec76b",
   "metadata": {},
   "outputs": [],
   "source": [
    "input_text = \"248: I am a language assistant made by Sunbird AI in Uganda.\"\n",
    "\n",
    "pred_global_ids, pred_semantic_ids = generate_speech_from_text(input_text)\n",
    "wav_np = audio_tokenizer.detokenize(\n",
    "    pred_global_ids.to('cuda').squeeze(0),\n",
    "    pred_semantic_ids.to('cuda') \n",
    ")\n",
    "display(Audio(wav_np, rate=16_000))"
   ]
  },
  {
   "cell_type": "code",
   "execution_count": null,
   "id": "5fc88fa4-b27e-4407-a25b-c3378cb0fbb7",
   "metadata": {},
   "outputs": [],
   "source": [
    "# Slow down or speed up by changing the sample rate\n",
    "display(Audio(wav_np, rate=14_000))"
   ]
  },
  {
   "cell_type": "code",
   "execution_count": null,
   "id": "8f7bab7e-c8ae-4a17-95e3-9aebaaef75d9",
   "metadata": {},
   "outputs": [],
   "source": []
  }
 ],
 "metadata": {
  "kernelspec": {
   "display_name": "Python3 (ipykernel)",
   "language": "python",
   "name": "python3"
  },
  "language_info": {
   "codemirror_mode": {
    "name": "ipython",
    "version": 3
   },
   "file_extension": ".py",
   "mimetype": "text/x-python",
   "name": "python",
   "nbconvert_exporter": "python",
   "pygments_lexer": "ipython3",
   "version": "3.10.12"
  }
 },
 "nbformat": 4,
 "nbformat_minor": 5
}
