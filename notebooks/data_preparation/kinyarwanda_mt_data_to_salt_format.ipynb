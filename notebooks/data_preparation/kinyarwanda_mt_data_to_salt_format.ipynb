{
 "cells": [
  {
   "cell_type": "code",
   "execution_count": null,
   "id": "2f61b054-6b53-4ba0-bcfd-1cc89352ffa5",
   "metadata": {},
   "outputs": [],
   "source": [
    "!pip install -q datasets"
   ]
  },
  {
   "cell_type": "code",
   "execution_count": null,
   "id": "8e18f1fe-5edc-4eb7-acf0-2a498bcfda39",
   "metadata": {},
   "outputs": [],
   "source": [
    "import re\n",
    "import datasets\n",
    "import json\n",
    "import yaml\n",
    "import pandas as pd\n",
    "import tqdm.notebook as tqdm"
   ]
  },
  {
   "cell_type": "code",
   "execution_count": null,
   "id": "840fe162-46eb-4019-9144-d4ccc79ecd2b",
   "metadata": {},
   "outputs": [],
   "source": [
    "!wget https://huggingface.co/datasets/DigitalUmuganda/kinyarwanda-english-machine-translation-dataset/raw/main/kinyarwanda-english-corpus.tsv\n",
    "!wget https://huggingface.co/datasets/DigitalUmuganda/kinyarwanda-english-machine-translation-dataset/raw/main/kinyarwanda-english-corpus2.tsv\n",
    "!wget https://huggingface.co/datasets/DigitalUmuganda/kinyarwanda-english-machine-translation-dataset/raw/main/kinyarwanda-english-corpus3.tsv"
   ]
  },
  {
   "cell_type": "code",
   "execution_count": null,
   "id": "85887f2b-ca3b-454e-ac3d-3fb7a0f32c81",
   "metadata": {},
   "outputs": [],
   "source": [
    "part1 = pd.read_csv('kinyarwanda-english-corpus.tsv.1', sep='\\t', encoding='windows-1252', names=['kin_target_text', 'eng_text'])\n",
    "part2 = pd.read_csv('kinyarwanda-english-corpus2.tsv', sep='\\t', encoding='windows-1252', names=['kin_target_text', 'eng_text'])\n",
    "part3 = pd.read_csv('kinyarwanda-english-corpus3.tsv', sep='\\t', encoding='windows-1252', names=['kin_target_text', 'eng_text'])"
   ]
  },
  {
   "cell_type": "code",
   "execution_count": null,
   "id": "4fea9d95-169d-444c-8667-db1f46d06ae2",
   "metadata": {},
   "outputs": [],
   "source": [
    "df = pd.concat([part1, part2, part3])"
   ]
  },
  {
   "cell_type": "code",
   "execution_count": null,
   "id": "7bcbd10c-78f9-4933-a294-2ae5c7a74bab",
   "metadata": {},
   "outputs": [],
   "source": [
    "df"
   ]
  },
  {
   "cell_type": "code",
   "execution_count": null,
   "id": "50017a98-3a62-4215-9e5e-03389821e10e",
   "metadata": {},
   "outputs": [],
   "source": [
    "ds = datasets.Dataset.from_pandas(df)\n",
    "ds.push_to_hub(\"Sunbird/external-translation-data\", config_name=f'kinyarwanda_english_digital_umuganda', private=True, split='train')"
   ]
  },
  {
   "cell_type": "code",
   "execution_count": null,
   "id": "5f5a40b2-9e38-4bbd-afc1-f88d23ddc7e1",
   "metadata": {},
   "outputs": [],
   "source": []
  }
 ],
 "metadata": {
  "kernelspec": {
   "display_name": "Python 3 (ipykernel)",
   "language": "python",
   "name": "python3"
  },
  "language_info": {
   "codemirror_mode": {
    "name": "ipython",
    "version": 3
   },
   "file_extension": ".py",
   "mimetype": "text/x-python",
   "name": "python",
   "nbconvert_exporter": "python",
   "pygments_lexer": "ipython3",
   "version": "3.11.10"
  }
 },
 "nbformat": 4,
 "nbformat_minor": 5
}
