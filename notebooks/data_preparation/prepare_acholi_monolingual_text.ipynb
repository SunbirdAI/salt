{
 "cells": [
  {
   "cell_type": "code",
   "execution_count": 2,
   "id": "cd580474-4a4d-44a3-9117-0b66e504446a",
   "metadata": {},
   "outputs": [],
   "source": [
    "import datasets\n",
    "import pandas as pd"
   ]
  },
  {
   "cell_type": "code",
   "execution_count": 58,
   "id": "89bbf8b0-82d1-4723-858c-13a8b2657e78",
   "metadata": {},
   "outputs": [],
   "source": [
    "ds = datasets.load_dataset('Sunbird-archive/external-translation-datasets', 'bt_ach_en_14_3_23.parquet')"
   ]
  },
  {
   "cell_type": "code",
   "execution_count": 59,
   "id": "6cab07cd-4c8e-4d74-8048-1c028d2b0a5a",
   "metadata": {},
   "outputs": [],
   "source": [
    "part1 = ds['train'].to_pandas()[['ach_text']]"
   ]
  },
  {
   "cell_type": "code",
   "execution_count": 55,
   "id": "66de850d-b4c2-4be9-bfbe-2a781eb3dc68",
   "metadata": {},
   "outputs": [],
   "source": [
    "# Source: https://dataverse.harvard.edu/dataverse/makerereuniversitylacuna\n",
    "part2 = pd.read_csv('Makerere_Acoli_Monolingual Corpus.csv', names=['ach_text'])"
   ]
  },
  {
   "cell_type": "code",
   "execution_count": 60,
   "id": "3c669bd9-c71f-4846-bfe3-f9ac1a0b7b3a",
   "metadata": {},
   "outputs": [],
   "source": [
    "df = pd.concat([part1, part2])"
   ]
  },
  {
   "cell_type": "code",
   "execution_count": 61,
   "id": "817056a1-4c37-4923-8a9e-1d5c434c072c",
   "metadata": {},
   "outputs": [
    {
     "data": {
      "text/html": [
       "<div>\n",
       "<style scoped>\n",
       "    .dataframe tbody tr th:only-of-type {\n",
       "        vertical-align: middle;\n",
       "    }\n",
       "\n",
       "    .dataframe tbody tr th {\n",
       "        vertical-align: top;\n",
       "    }\n",
       "\n",
       "    .dataframe thead th {\n",
       "        text-align: right;\n",
       "    }\n",
       "</style>\n",
       "<table border=\"1\" class=\"dataframe\">\n",
       "  <thead>\n",
       "    <tr style=\"text-align: right;\">\n",
       "      <th></th>\n",
       "      <th>ach_text</th>\n",
       "    </tr>\n",
       "  </thead>\n",
       "  <tbody>\n",
       "    <tr>\n",
       "      <th>0</th>\n",
       "      <td>Yako dok magi ame pwod cwero atek cuny langi d...</td>\n",
       "    </tr>\n",
       "    <tr>\n",
       "      <th>1</th>\n",
       "      <td>• Pido pi nek ikom lanebi Severino Lukoya… Mor...</td>\n",
       "    </tr>\n",
       "    <tr>\n",
       "      <th>2</th>\n",
       "      <td>An pe arwate kwede wang ki wang, dong pi man, ...</td>\n",
       "    </tr>\n",
       "    <tr>\n",
       "      <th>3</th>\n",
       "      <td>Aryo, en bene ogwoko ber pa mupalici (quality)...</td>\n",
       "    </tr>\n",
       "    <tr>\n",
       "      <th>4</th>\n",
       "      <td>Acako butu iye ma pud an latin nio koni ma don...</td>\n",
       "    </tr>\n",
       "    <tr>\n",
       "      <th>...</th>\n",
       "      <td>...</td>\n",
       "    </tr>\n",
       "    <tr>\n",
       "      <th>40033</th>\n",
       "      <td>Wel cente me yubo otwa dwong mada.</td>\n",
       "    </tr>\n",
       "    <tr>\n",
       "      <th>40034</th>\n",
       "      <td>Laconi mitoo cito ka lwok kacel ki dakone.</td>\n",
       "    </tr>\n",
       "    <tr>\n",
       "      <th>40035</th>\n",
       "      <td>Atye ki cokke mo kacel ki lapilidana.</td>\n",
       "    </tr>\n",
       "    <tr>\n",
       "      <th>40036</th>\n",
       "      <td>Atye ka yenyo tic manyen me konya nongo cente.</td>\n",
       "    </tr>\n",
       "    <tr>\n",
       "      <th>40037</th>\n",
       "      <td>In itye ki jami mapol me arwenya, an ape kwede.</td>\n",
       "    </tr>\n",
       "  </tbody>\n",
       "</table>\n",
       "<p>46662 rows × 1 columns</p>\n",
       "</div>"
      ],
      "text/plain": [
       "                                                ach_text\n",
       "0      Yako dok magi ame pwod cwero atek cuny langi d...\n",
       "1      • Pido pi nek ikom lanebi Severino Lukoya… Mor...\n",
       "2      An pe arwate kwede wang ki wang, dong pi man, ...\n",
       "3      Aryo, en bene ogwoko ber pa mupalici (quality)...\n",
       "4      Acako butu iye ma pud an latin nio koni ma don...\n",
       "...                                                  ...\n",
       "40033                 Wel cente me yubo otwa dwong mada.\n",
       "40034         Laconi mitoo cito ka lwok kacel ki dakone.\n",
       "40035              Atye ki cokke mo kacel ki lapilidana.\n",
       "40036     Atye ka yenyo tic manyen me konya nongo cente.\n",
       "40037    In itye ki jami mapol me arwenya, an ape kwede.\n",
       "\n",
       "[46662 rows x 1 columns]"
      ]
     },
     "execution_count": 61,
     "metadata": {},
     "output_type": "execute_result"
    }
   ],
   "source": [
    "df"
   ]
  },
  {
   "cell_type": "code",
   "execution_count": null,
   "id": "9f9b8bb0-66cb-4106-8ea5-6bf7fbb835ae",
   "metadata": {},
   "outputs": [],
   "source": [
    "ds = datasets.Dataset.from_pandas(df)\n",
    "ds.push_to_hub(\"Sunbird/external-translation-data\", config_name=f'monolingual_ach', private=True, split='train')"
   ]
  },
  {
   "cell_type": "code",
   "execution_count": null,
   "id": "4d2bbee3-ca0f-47db-8080-d5f5633eaf3b",
   "metadata": {},
   "outputs": [],
   "source": []
  }
 ],
 "metadata": {
  "kernelspec": {
   "display_name": "Python 3 (ipykernel)",
   "language": "python",
   "name": "python3"
  },
  "language_info": {
   "codemirror_mode": {
    "name": "ipython",
    "version": 3
   },
   "file_extension": ".py",
   "mimetype": "text/x-python",
   "name": "python",
   "nbconvert_exporter": "python",
   "pygments_lexer": "ipython3",
   "version": "3.11.10"
  }
 },
 "nbformat": 4,
 "nbformat_minor": 5
}
