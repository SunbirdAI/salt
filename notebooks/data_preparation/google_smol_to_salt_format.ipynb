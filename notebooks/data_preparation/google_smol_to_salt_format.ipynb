{
 "cells": [
  {
   "cell_type": "code",
   "execution_count": null,
   "id": "f3f7a36d-3d45-491d-80db-c4696c8e8fe7",
   "metadata": {},
   "outputs": [],
   "source": [
    "import re\n",
    "import datasets\n",
    "import json\n",
    "import unidecode\n",
    "import yaml\n",
    "import salt.dataset\n",
    "import pandas as pd\n",
    "import tqdm.notebook as tqdm\n",
    "import salt.constants\n",
    "%pylab inline"
   ]
  },
  {
   "cell_type": "code",
   "execution_count": null,
   "id": "4d1fc25f-19df-4693-84fe-e8df8664bb7a",
   "metadata": {},
   "outputs": [],
   "source": [
    "# Ugandan languages in SMOL: ['lg', 'ach', 'alz', 'cgg']\n",
    "lang = 'cgg'\n",
    "\n",
    "iso_lang = 'lug' if lang == 'lg' else lang\n",
    "sources = []\n",
    "targets = []"
   ]
  },
  {
   "cell_type": "code",
   "execution_count": null,
   "id": "34eea3fe-b82a-413c-9927-c6d50fcf660a",
   "metadata": {},
   "outputs": [],
   "source": [
    "gatitos = datasets.load_dataset('google/smol', f'gatitos__en_{lang}', split='train')\n",
    "\n",
    "for example in gatitos:\n",
    "    if example['sl'] != 'en':\n",
    "        raise ValueError('Unexpected language direction: ', example)\n",
    "    src = example['src']\n",
    "    for tgt in example['trgs']:\n",
    "        sources.append(src)\n",
    "        targets.append(tgt)"
   ]
  },
  {
   "cell_type": "code",
   "execution_count": null,
   "id": "fec0aac7-a587-4974-8b35-0841d67882c1",
   "metadata": {},
   "outputs": [],
   "source": [
    "smolsent = datasets.load_dataset('google/smol', f'smolsent__en_{lang}', split='train')\n",
    "\n",
    "for example in smolsent:\n",
    "    if example['sl'] != 'en':\n",
    "        raise ValueError('Unexpected language direction: ', example)\n",
    "    sources.append(example['src'])\n",
    "    targets.append(example['trg'])"
   ]
  },
  {
   "cell_type": "code",
   "execution_count": null,
   "id": "af53a133-58cc-442e-a4f3-5391c0f977d2",
   "metadata": {},
   "outputs": [],
   "source": [
    "smoldoc = datasets.load_dataset('google/smol', f'smoldoc__en_{lang}', split='train')\n",
    "\n",
    "for example in smoldoc:\n",
    "    if example['sl'] != 'en':\n",
    "        raise ValueError('Unexpected language direction: ', example)\n",
    "    src = ' '.join(example['srcs'])\n",
    "    tgt = ' '.join(example['trgs'])\n",
    "    sources.append(src)\n",
    "    targets.append(tgt)"
   ]
  },
  {
   "cell_type": "code",
   "execution_count": null,
   "id": "78a406de-36cf-43fd-89f6-a6706307b41a",
   "metadata": {},
   "outputs": [],
   "source": [
    "df = pd.DataFrame()\n",
    "df['eng_text'] = sources\n",
    "df[f'{iso_lang}_text'] = targets"
   ]
  },
  {
   "cell_type": "code",
   "execution_count": null,
   "id": "2b240f05-ef45-44f3-9541-cf894bb5c4c9",
   "metadata": {},
   "outputs": [],
   "source": [
    "df"
   ]
  },
  {
   "cell_type": "code",
   "execution_count": null,
   "id": "91f5263b-5f81-43aa-b5eb-a7146ecd3028",
   "metadata": {},
   "outputs": [],
   "source": [
    "ds = datasets.Dataset.from_pandas(df)\n",
    "ds.push_to_hub(\"jq/external-translation-data\", config_name=f'google_smol_{iso_lang}', private=True, split='train')"
   ]
  },
  {
   "cell_type": "code",
   "execution_count": null,
   "id": "d0011ede-1004-430e-93a9-1713e2a25a80",
   "metadata": {},
   "outputs": [],
   "source": []
  }
 ],
 "metadata": {
  "kernelspec": {
   "display_name": "Python3 (ipykernel)",
   "language": "python",
   "name": "python3"
  },
  "language_info": {
   "codemirror_mode": {
    "name": "ipython",
    "version": 3
   },
   "file_extension": ".py",
   "mimetype": "text/x-python",
   "name": "python",
   "nbconvert_exporter": "python",
   "pygments_lexer": "ipython3",
   "version": "3.10.12"
  }
 },
 "nbformat": 4,
 "nbformat_minor": 5
}
