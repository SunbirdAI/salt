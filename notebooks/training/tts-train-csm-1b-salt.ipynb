{
 "cells": [
  {
   "cell_type": "code",
   "execution_count": null,
   "id": "6e387bc8-ade2-42fb-ab85-93697b95e5cd",
   "metadata": {},
   "outputs": [],
   "source": [
    "import tqdm.notebook as tqdm\n",
    "from unsloth import FastModel\n",
    "from transformers import CsmForConditionalGeneration\n",
    "import torch\n",
    "import datasets\n",
    "from datasets import load_dataset, Audio, Dataset\n",
    "from IPython.display import Audio, display\n",
    "import soundfile as sf"
   ]
  },
  {
   "cell_type": "code",
   "execution_count": null,
   "id": "56deac8a-4afd-44de-a203-fbe58158b6cc",
   "metadata": {},
   "outputs": [],
   "source": [
    "model, processor = FastModel.from_pretrained(\n",
    "    model_name = \"unsloth/csm-1b\",\n",
    "    max_seq_length= 2048, # Choose any for long context!\n",
    "    dtype = None, # Leave as None for auto-detection\n",
    "    auto_model = CsmForConditionalGeneration,\n",
    "    load_in_4bit = False, # Select True for 4bit - reduces memory usage\n",
    ")"
   ]
  },
  {
   "cell_type": "code",
   "execution_count": null,
   "id": "c711a06a-79c9-40b2-aa88-3b1ddae30d25",
   "metadata": {},
   "outputs": [],
   "source": [
    "import mlflow\n",
    "from getpass import getpass\n",
    "import os\n",
    "MLFLOW_TRACKING_USERNAME = getpass('Enter the MLFLOW_TRACKING_USERNAME: ')\n",
    "os.environ['MLFLOW_TRACKING_USERNAME'] = MLFLOW_TRACKING_USERNAME\n",
    "MLFLOW_TRACKING_PASSWORD = getpass('Enter the MLFLOW_TRACKING_PASSWORD: ')\n",
    "os.environ['MLFLOW_TRACKING_PASSWORD'] = MLFLOW_TRACKING_PASSWORD\n",
    "os.environ[\"MLFLOW_TRACKING_URI\"] = \"https://mlflow-sunbird-ce0ecfc14244.herokuapp.com\" \n",
    "os.environ[\"MLFLOW_EXPERIMENT_NAME\"] = \"tts-csm-1b\""
   ]
  },
  {
   "cell_type": "code",
   "execution_count": null,
   "id": "85622b88-88bb-4a8b-9ec8-0e95a0f59f4f",
   "metadata": {},
   "outputs": [],
   "source": [
    "model = FastModel.get_peft_model(\n",
    "    model,\n",
    "    r = 128, # Choose any number > 0 ! Suggested 8, 16, 32, 64, 128\n",
    "    target_modules = [\"q_proj\", \"k_proj\", \"v_proj\", \"o_proj\",\n",
    "                      \"gate_proj\", \"up_proj\", \"down_proj\",],\n",
    "    lora_alpha = 128,\n",
    "    lora_dropout = 0, # Supports any, but = 0 is optimized\n",
    "    bias = \"none\",    # Supports any, but = \"none\" is optimized\n",
    "    # [NEW] \"unsloth\" uses 30% less VRAM, fits 2x larger batch sizes!\n",
    "    use_gradient_checkpointing = \"unsloth\", # True or \"unsloth\" for very long context\n",
    "    random_state = 3407,\n",
    "    use_rslora = False,  # We support rank stabilized LoRA\n",
    "    loftq_config = None, # And LoftQ\n",
    ")"
   ]
  },
  {
   "cell_type": "code",
   "execution_count": null,
   "id": "7b31c9ed-cbc9-42d8-8e60-0dae67de1faa",
   "metadata": {},
   "outputs": [],
   "source": [
    "ds_lug = load_dataset(\n",
    "    \"Sunbird/salt\", \"studio-lug\", split=\"train\").map(lambda example: {\"speaker_id\": 1})\n",
    "\n",
    "ds_eng = load_dataset(\n",
    "    \"Sunbird/salt\", \"studio-eng\", split=\"train\").map(lambda example: {\"speaker_id\": 1})\n",
    "\n",
    "ds_ach = load_dataset(\n",
    "    \"Sunbird/salt\", \"studio-ach\", split=\"train\").map(lambda example: {\"speaker_id\": 2})\n",
    "\n",
    "ds_swa = load_dataset(\n",
    "    \"Sunbird/salt\", \"studio-swa\", split=\"train\").map(lambda example: {\"speaker_id\": 3})\n",
    "\n",
    "ds_lgg = load_dataset(\n",
    "    \"Sunbird/salt\", \"studio-lgg\", split=\"train\").map(lambda example: {\"speaker_id\": 4})\n",
    "\n",
    "ds_nyn = load_dataset(\n",
    "    \"Sunbird/salt\", \"studio-nyn\", split=\"train\").map(lambda example: {\"speaker_id\": 5})\n",
    "\n",
    "ds_teo = load_dataset(\n",
    "    \"Sunbird/salt\", \"studio-teo\", split=\"train\").map(lambda example: {\"speaker_id\": 6})\n",
    "\n",
    "raw_ds = datasets.concatenate_datasets(\n",
    "    [ds_ach,ds_lug, ds_eng, ds_swa, ds_lgg, ds_nyn, ds_teo]).shuffle(seed=42)\n",
    "\n",
    "sampling_rate = 24000\n",
    "raw_ds = raw_ds.cast_column(\"audio\", Audio(sampling_rate=sampling_rate))\n",
    "\n",
    "raw_ds = raw_ds.filter(\n",
    "    lambda example: (0.5 * sampling_rate) < len(example[\"audio\"][\"array\"]) < (8 * sampling_rate),\n",
    "    num_proc=20,\n",
    ")"
   ]
  },
  {
   "cell_type": "code",
   "execution_count": null,
   "id": "b0249efc-4781-4246-ae6d-9cb6b368f545",
   "metadata": {},
   "outputs": [],
   "source": [
    "len(raw_ds)"
   ]
  },
  {
   "cell_type": "code",
   "execution_count": null,
   "id": "ec236248-8413-44e9-a11a-5f1dcd159ce7",
   "metadata": {},
   "outputs": [],
   "source": [
    "if False: \n",
    "    # For new datasets, check what the longest audio/text is.\n",
    "    audio_lengths = []\n",
    "    text_lengths = []\n",
    "    for example in tqdm.tqdm(raw_ds):\n",
    "        audio_lengths.append(len(example['audio']['array']))\n",
    "        text_lengths.append(len(example['text']))"
   ]
  },
  {
   "cell_type": "code",
   "execution_count": null,
   "id": "5873d242-712a-4e73-a5aa-dd666f73a87d",
   "metadata": {},
   "outputs": [],
   "source": [
    "import os\n",
    "from transformers import AutoProcessor\n",
    "processor = AutoProcessor.from_pretrained(\"unsloth/csm-1b\")\n",
    "\n",
    "def preprocess_example(example):\n",
    "    conversation = [\n",
    "        {\n",
    "            \"role\": str(example[\"speaker_id\"]),\n",
    "            \"content\": [\n",
    "                {\"type\": \"text\", \"text\": example[\"text\"]},\n",
    "                {\"type\": \"audio\", \"path\": example[\"audio\"][\"array\"]},\n",
    "            ],\n",
    "        }\n",
    "    ]\n",
    "\n",
    "    try:\n",
    "        model_inputs = processor.apply_chat_template(\n",
    "            conversation,\n",
    "            tokenize=True,\n",
    "            return_dict=True,\n",
    "            output_labels=True,\n",
    "            text_kwargs = {\n",
    "                \"padding\": \"max_length\", # pad to the max_length\n",
    "                \"max_length\": 256, # this should be the max length of audio\n",
    "                \"pad_to_multiple_of\": 8,\n",
    "                \"padding_side\": \"right\",\n",
    "            },\n",
    "            audio_kwargs = {\n",
    "                \"sampling_rate\": 24_000,\n",
    "                \"max_length\": 8 * 24_000, # max input_values length of the whole dataset\n",
    "                \"padding\": \"max_length\",\n",
    "            },\n",
    "            common_kwargs = {\"return_tensors\": \"pt\"},\n",
    "        )\n",
    "    except Exception as e:\n",
    "        print(f\"Error processing example with text '{example['text'][:50]}...': {e}\")\n",
    "        return None\n",
    "\n",
    "    required_keys = [\"input_ids\", \"attention_mask\", \"labels\", \"input_values\", \"input_values_cutoffs\"]\n",
    "    processed_example = {}\n",
    "    for key in required_keys:\n",
    "        if key not in model_inputs:\n",
    "            print(f\"Warning: Required key '{key}' not found in processor output for example.\")\n",
    "            return None\n",
    "\n",
    "        value = model_inputs[key][0]\n",
    "        processed_example[key] = value\n",
    "\n",
    "    # Final check (optional but good)\n",
    "    if not all(isinstance(processed_example[key], torch.Tensor) for key in processed_example):\n",
    "         print(f\"Error: Not all required keys are tensors in final processed example. Keys: {list(processed_example.keys())}\")\n",
    "         return None\n",
    "\n",
    "    return processed_example\n",
    "\n",
    "processed_ds = raw_ds.take(12_000).map(\n",
    "    preprocess_example,\n",
    "    remove_columns=raw_ds.column_names,\n",
    "    desc=\"Preprocessing dataset\",\n",
    "    num_proc=20,\n",
    ")"
   ]
  },
  {
   "cell_type": "code",
   "execution_count": null,
   "id": "95f559cb-5df0-4cce-ac5c-91e44aa99f8f",
   "metadata": {},
   "outputs": [],
   "source": [
    "N_eval_samples = 128\n",
    "train_dataset = processed_ds.skip(N_eval_samples)\n",
    "eval_dataset = processed_ds.take(N_eval_samples)"
   ]
  },
  {
   "cell_type": "code",
   "execution_count": null,
   "id": "a48bbf3d-c9e4-4ed0-b0f9-184c1c8cf395",
   "metadata": {},
   "outputs": [],
   "source": [
    "from transformers import TrainingArguments, Trainer\n",
    "from unsloth import is_bfloat16_supported\n",
    "\n",
    "trainer = Trainer(\n",
    "    model = model,\n",
    "    train_dataset = train_dataset,\n",
    "    eval_dataset = eval_dataset,\n",
    "    args = TrainingArguments(\n",
    "        per_device_train_batch_size = 8,\n",
    "        per_device_eval_batch_size = 8,\n",
    "        dataloader_num_workers = 8,\n",
    "        gradient_accumulation_steps = 1,\n",
    "        warmup_steps = 5,\n",
    "        learning_rate = 2e-4,\n",
    "        num_train_epochs=1,\n",
    "        fp16 = not is_bfloat16_supported(),\n",
    "        bf16 = is_bfloat16_supported(),\n",
    "        logging_steps = 100,\n",
    "        eval_steps = 100,\n",
    "        eval_strategy=\"steps\",\n",
    "        optim = \"adamw_8bit\",\n",
    "        weight_decay = 0.01, # Turn this on if overfitting\n",
    "        lr_scheduler_type = \"linear\",\n",
    "        seed = 42,\n",
    "        output_dir = \"csm-1b-lora-bs8\",\n",
    "        report_to = \"mlflow\", # Use this for WandB etc\n",
    "    ),\n",
    ")"
   ]
  },
  {
   "cell_type": "code",
   "execution_count": null,
   "id": "cafc2e6f-edbd-4173-95f0-af71c22a63b8",
   "metadata": {},
   "outputs": [],
   "source": [
    "trainer_stats = trainer.train()"
   ]
  },
  {
   "cell_type": "code",
   "execution_count": null,
   "id": "f1941733-521d-43c5-b6f0-97240846cbdb",
   "metadata": {},
   "outputs": [],
   "source": [
    "text = \"Nsobola okwogera Oluganda n'ennimi endala.\" \n",
    "speaker_id = 1\n",
    "\n",
    "inputs = processor(f\"[{speaker_id}]{text}\", add_special_tokens=True).to(\"cuda\")\n",
    "audio_values = model.generate(\n",
    "    **inputs,\n",
    "    max_new_tokens=125, # 125 tokens is 10 seconds of audio, for longer speech increase this\n",
    "    depth_decoder_temperature=0.6,\n",
    "    depth_decoder_top_k=0,\n",
    "    depth_decoder_top_p=0.9,\n",
    "    temperature=0.8,\n",
    "    top_k=50,\n",
    "    top_p=1.0,\n",
    "    output_audio=True\n",
    ")\n",
    "\n",
    "audio = audio_values[0].to(torch.float32).cpu().numpy()\n",
    "#sf.write(\"example.wav\", audio, 24000)\n",
    "display(Audio(audio, rate=24000))"
   ]
  },
  {
   "cell_type": "code",
   "execution_count": null,
   "id": "0bb78582-ab11-40f2-b1ae-a07f245634a8",
   "metadata": {},
   "outputs": [],
   "source": [
    "model.push_to_hub('csm-1b-salt')"
   ]
  },
  {
   "cell_type": "code",
   "execution_count": null,
   "id": "d6065f65-639b-4aac-9e1a-43e9e35c05b6",
   "metadata": {},
   "outputs": [],
   "source": [
    "processor.push_to_hub('csm-1b-salt')"
   ]
  },
  {
   "cell_type": "code",
   "execution_count": null,
   "id": "f8f1f2e4-fa61-4f51-bb5c-dd12911ea251",
   "metadata": {},
   "outputs": [],
   "source": []
  }
 ],
 "metadata": {
  "kernelspec": {
   "display_name": "Python3 (ipykernel)",
   "language": "python",
   "name": "python3"
  },
  "language_info": {
   "codemirror_mode": {
    "name": "ipython",
    "version": 3
   },
   "file_extension": ".py",
   "mimetype": "text/x-python",
   "name": "python",
   "nbconvert_exporter": "python",
   "pygments_lexer": "ipython3",
   "version": "3.12.3"
  }
 },
 "nbformat": 4,
 "nbformat_minor": 5
}
