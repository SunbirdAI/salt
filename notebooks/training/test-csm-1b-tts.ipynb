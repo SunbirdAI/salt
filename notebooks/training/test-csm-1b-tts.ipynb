{
 "cells": [
  {
   "cell_type": "code",
   "execution_count": null,
   "id": "7bd43e0d-4701-4f78-9490-b87c8827494d",
   "metadata": {},
   "outputs": [],
   "source": [
    "import torch\n",
    "import copy\n",
    "from transformers import CsmForConditionalGeneration, AutoProcessor\n",
    "from datasets import load_dataset\n",
    "import tqdm.notebook as tqdm\n",
    "\n",
    "model_id = \"jq/csm-1b-salt\"\n",
    "processor = AutoProcessor.from_pretrained(\"sesame/csm-1b\")\n",
    "model = CsmForConditionalGeneration.from_pretrained(model_id, device_map=\"auto\")"
   ]
  },
  {
   "cell_type": "code",
   "execution_count": null,
   "id": "af7afe2d-335d-462c-946b-c39af2a5c80e",
   "metadata": {},
   "outputs": [],
   "source": [
    "speaker_id = \"0\"\n",
    "sentences = [\n",
    "    \"I am a language assistant made by Sunbird AI in Uganda.\",\n",
    "    \"Nsobola okwogera Oluganda n'ennimi endala.\",\n",
    "    \"Atwero loko leb Acholi.\",\n",
    "    \"Nimbaasa kugamba Orunyankole.\",\n",
    "    \"Apedori eong einer Ateso.\",\n",
    "    \"Naweza kuongea Kiswahili.\",\n",
    "]\n",
    "\n",
    "all_audio = []\n",
    "for text in tqdm.tqdm(sentences):\n",
    "    inputs = processor(\n",
    "        f\"[{speaker_id}]{text}\", add_special_tokens=True).to(\"cuda\")\n",
    "    \n",
    "    audio = model.generate(\n",
    "        **inputs,\n",
    "        max_new_tokens=125,\n",
    "        depth_decoder_temperature=0.6,\n",
    "        depth_decoder_top_k=0,\n",
    "        depth_decoder_top_p=0.9,\n",
    "        temperature=0.8,\n",
    "        top_k=50,\n",
    "        top_p=1.0,\n",
    "        output_audio=True             \n",
    "    )\n",
    "    all_audio.append(audio[0].to(torch.float32).cpu().numpy())"
   ]
  },
  {
   "cell_type": "code",
   "execution_count": null,
   "id": "0026dc86-c8dd-4583-82cb-623f7ad018f5",
   "metadata": {},
   "outputs": [],
   "source": [
    "from IPython.display import Audio, display\n",
    "for i in range(len(all_audio)):\n",
    "    display(Audio(all_audio[i][:-2000], rate=24000))"
   ]
  },
  {
   "cell_type": "code",
   "execution_count": null,
   "id": "cd1df683-aac1-40d0-9cc5-c28d960336d2",
   "metadata": {},
   "outputs": [],
   "source": [
    "import numpy as np\n",
    "combined = np.concatenate([audio[:-2000] for audio in all_audio])\n",
    "display(Audio(combined, rate=24000))"
   ]
  },
  {
   "cell_type": "code",
   "execution_count": null,
   "id": "064344bf-2f11-4a7f-b4ca-ea30adf3a73a",
   "metadata": {},
   "outputs": [],
   "source": []
  }
 ],
 "metadata": {
  "kernelspec": {
   "display_name": "Python3 (ipykernel)",
   "language": "python",
   "name": "python3"
  },
  "language_info": {
   "codemirror_mode": {
    "name": "ipython",
    "version": 3
   },
   "file_extension": ".py",
   "mimetype": "text/x-python",
   "name": "python",
   "nbconvert_exporter": "python",
   "pygments_lexer": "ipython3",
   "version": "3.12.3"
  }
 },
 "nbformat": 4,
 "nbformat_minor": 5
}
