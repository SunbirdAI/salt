{
 "cells": [
  {
   "cell_type": "code",
   "execution_count": null,
   "metadata": {
    "id": "sryzEPpZ3c9E"
   },
   "outputs": [],
   "source": [
    "!pip install -q datasets\n",
    "!pip install -q soundfile"
   ]
  },
  {
   "cell_type": "code",
   "execution_count": 22,
   "metadata": {
    "id": "ROuLmS2l3s-e"
   },
   "outputs": [],
   "source": [
    "import datasets\n",
    "import numpy as np\n",
    "import pandas as pd\n",
    "import re\n",
    "import string\n",
    "import os\n",
    "import subprocess\n",
    "from tqdm.notebook import tqdm\n",
    "import multiprocessing\n",
    "import huggingface_hub"
   ]
  },
  {
   "cell_type": "code",
   "execution_count": 23,
   "metadata": {},
   "outputs": [
    {
     "data": {
      "application/vnd.jupyter.widget-view+json": {
       "model_id": "76eef839c7b54767ab7307d90b7bd5b2",
       "version_major": 2,
       "version_minor": 0
      },
      "text/plain": [
       "VBox(children=(HTML(value='<center> <img\\nsrc=https://huggingface.co/front/assets/huggingface_logo-noborder.sv…"
      ]
     },
     "metadata": {},
     "output_type": "display_data"
    }
   ],
   "source": [
    "huggingface_hub.notebook_login()"
   ]
  },
  {
   "cell_type": "code",
   "execution_count": 5,
   "metadata": {
    "id": "Qncf7pzQ5vZN"
   },
   "outputs": [],
   "source": [
    "!wget https://huggingface.co/datasets/allandclive/MakerereRadioSpeech_20Hrs/resolve/main/audio.zip\n",
    "!wget https://huggingface.co/datasets/allandclive/MakerereRadioSpeech_20Hrs/raw/main/uncleaned.csv\n",
    "!unzip -q audio.zip"
   ]
  },
  {
   "cell_type": "code",
   "execution_count": 6,
   "metadata": {
    "id": "vtU63lXz6Slg"
   },
   "outputs": [],
   "source": [
    "df = pd.read_csv('uncleaned.csv')"
   ]
  },
  {
   "cell_type": "code",
   "execution_count": 7,
   "metadata": {
    "colab": {
     "base_uri": "https://localhost:8080/"
    },
    "id": "UZNK60Q37swC",
    "outputId": "c0f88112-5745-41e4-f7df-11f7d4aeda60"
   },
   "outputs": [
    {
     "name": "stdout",
     "output_type": "stream",
     "text": [
      "Oku okugoberera. Okugoberera. Byemwakkiriziganyako. Mwakkiriziganyako. Webale nnyo.\n",
      "Era oyina okubituukiriza. Ye sebo. Eyo y'enkwata y'ebb olwo tugamba nti oyo ebbanja alikwata buki?\n",
      "N'ennaku z'omwezi bazitaddemu. n'omuwendo bagukoze ki? Bagutaddemu. N'emirundi emeka g'anakola ki? Gy'anazisasula. Gy'anasasula.\n",
      "Ekyo kikulu nnyo. Ye sebo. Tugiyita kwegamba plan y'okusasula ebbanja.\n",
      "Ogim. Ogitegeera era nga ogirina. Ye sebo. Kyetutera ogamba nti.\n",
      "Ye sebo. Kubanga plan esasula kitegeeza nti omanyi omuwendo gw'esente gw'ogenda okusasula mu kiseera ekiddako.\n",
      "Na ddi lw'ogenda ozisasula. Ye sebo. Tekigenda kugwa ko bugwi.\n",
      "Ensonga endala nga okulemererwa okusasula.\n",
      "Ensonga eguddewo. Ye sebo. Ebigwa tebiraze.\n",
      "Kwata yo ebbanja. Ye sebo. Kuba bw'onooba onolikwata bulungi.\n"
     ]
    }
   ],
   "source": [
    "def remove_multiple_spaces(text):\n",
    "  return re.sub(r'\\s+', ' ', text)\n",
    "\n",
    "def sentence_case(input_string):\n",
    "  if len(input_string) < 3:\n",
    "    return input_string\n",
    "  formatted_string = input_string[0].upper() + input_string[1:]\n",
    "  if formatted_string[-1] not in string.punctuation:\n",
    "    formatted_string += '.'\n",
    "  return formatted_string\n",
    "\n",
    "def remove_spaces_between_capitals(text):\n",
    "    # Use regex to find uppercase letters with spaces in between and merge them\n",
    "    return re.sub(r'(?<=[A-Z])\\s+(?=[A-Z])', '', text)\n",
    "\n",
    "def format_single_line(text):\n",
    "  text = text.replace('A:', '')\n",
    "  text = text.replace('B:', '')\n",
    "  text = text.replace('[um]', '')\n",
    "  text = text.replace('[part]', '')\n",
    "  text = text.replace('[en]', '')\n",
    "  text = text.strip()\n",
    "  text = sentence_case(text)\n",
    "  text = remove_spaces_between_capitals(text)\n",
    "  return text\n",
    "\n",
    "def format_lines(text):\n",
    "  parts = text.split('\\n')\n",
    "  parts = [format_single_line(part) for part in parts]\n",
    "  parts = [part for part in parts if len(part)>1]\n",
    "  text = ' '.join(parts)\n",
    "  text = remove_multiple_spaces(text)\n",
    "  return text\n",
    "\n",
    "def get_language(text):\n",
    "  return 'eng' if '[en]' in text else 'lug'\n",
    "\n",
    "df['cleaned_transcript'] = df['transcript'].apply(format_lines)\n",
    "\n",
    "df['audio_language'] = df['transcript'].apply(get_language)\n",
    "\n",
    "for i in range(2000, 2010):\n",
    "  print(df['cleaned_transcript'][i])"
   ]
  },
  {
   "cell_type": "code",
   "execution_count": 8,
   "metadata": {
    "colab": {
     "base_uri": "https://localhost:8080/",
     "height": 424
    },
    "id": "otNjEE_YCgIC",
    "outputId": "1ba11940-76b0-490a-d876-40f22a8044c5"
   },
   "outputs": [
    {
     "data": {
      "text/html": [
       "<div>\n",
       "<style scoped>\n",
       "    .dataframe tbody tr th:only-of-type {\n",
       "        vertical-align: middle;\n",
       "    }\n",
       "\n",
       "    .dataframe tbody tr th {\n",
       "        vertical-align: top;\n",
       "    }\n",
       "\n",
       "    .dataframe thead th {\n",
       "        text-align: right;\n",
       "    }\n",
       "</style>\n",
       "<table border=\"1\" class=\"dataframe\">\n",
       "  <thead>\n",
       "    <tr style=\"text-align: right;\">\n",
       "      <th></th>\n",
       "      <th>wav_filename</th>\n",
       "      <th>duration</th>\n",
       "      <th>transcript</th>\n",
       "      <th>cleaned_transcript</th>\n",
       "      <th>audio_language</th>\n",
       "    </tr>\n",
       "  </thead>\n",
       "  <tbody>\n",
       "    <tr>\n",
       "      <th>0</th>\n",
       "      <td>audio_5fa142ebac4bd8.60517665.wav</td>\n",
       "      <td>8.01</td>\n",
       "      <td>A: Banyonyola bulungi mu lulimi lweba[part] lw...</td>\n",
       "      <td>Banyonyola bulungi mu lulimi lweba lwebategeer...</td>\n",
       "      <td>lug</td>\n",
       "    </tr>\n",
       "    <tr>\n",
       "      <th>1</th>\n",
       "      <td>audio_5fa142e82c8907.10197122.wav</td>\n",
       "      <td>4.38</td>\n",
       "      <td>A: Abataddemu ensimbi okulaba nti program eno ...</td>\n",
       "      <td>Abataddemu ensimbi okulaba nti program eno ekw...</td>\n",
       "      <td>lug</td>\n",
       "    </tr>\n",
       "    <tr>\n",
       "      <th>2</th>\n",
       "      <td>audio_5fa142f373f3a0.14347634.wav</td>\n",
       "      <td>5.37</td>\n",
       "      <td>A: Wamu n'ennima ey'omulembe ey'rmwanyi ebeera...</td>\n",
       "      <td>Wamu n'ennima ey'omulembe ey'rmwanyi ebeerawo ...</td>\n",
       "      <td>lug</td>\n",
       "    </tr>\n",
       "    <tr>\n",
       "      <th>3</th>\n",
       "      <td>audio_5fa142ef6fb398.44234122.wav</td>\n",
       "      <td>4.53</td>\n",
       "      <td>A: Ndi mulimisa\\nB: [um] sebo\\nA: Era nkola n'...</td>\n",
       "      <td>Ndi mulimisa. Sebo. Era nkola n'ekitongole eky...</td>\n",
       "      <td>lug</td>\n",
       "    </tr>\n",
       "    <tr>\n",
       "      <th>4</th>\n",
       "      <td>audio_5fa142e69bf891.02819656.wav</td>\n",
       "      <td>3.96</td>\n",
       "      <td>A: Oba munkola eno\\nB: [um]\\nA: Tukolagana n'e...</td>\n",
       "      <td>Oba munkola eno. Tukolagana n'ekitongole ekya ...</td>\n",
       "      <td>lug</td>\n",
       "    </tr>\n",
       "    <tr>\n",
       "      <th>...</th>\n",
       "      <td>...</td>\n",
       "      <td>...</td>\n",
       "      <td>...</td>\n",
       "      <td>...</td>\n",
       "      <td>...</td>\n",
       "    </tr>\n",
       "    <tr>\n",
       "      <th>11653</th>\n",
       "      <td>audio_5fbb5995c0b7a2.33101378.wav</td>\n",
       "      <td>8.97</td>\n",
       "      <td>A: Mubutuufu oblwadde webujja bujja kuba eyo [...</td>\n",
       "      <td>Mubutuufu oblwadde webujja bujja kuba eyo olab...</td>\n",
       "      <td>lug</td>\n",
       "    </tr>\n",
       "    <tr>\n",
       "      <th>11654</th>\n",
       "      <td>audio_5fbb5995a7aef9.81027427.wav</td>\n",
       "      <td>8.76</td>\n",
       "      <td>A: Okubeera nga ekiriisa kyanguwa okutuuka ku ...</td>\n",
       "      <td>Okubeera nga ekiriisa kyanguwa okutuuka ku mil...</td>\n",
       "      <td>lug</td>\n",
       "    </tr>\n",
       "    <tr>\n",
       "      <th>11655</th>\n",
       "      <td>audio_5fbb599764e022.13421389.wav</td>\n",
       "      <td>8.67</td>\n",
       "      <td>A: Waliwo abalimi abagamba nti waliwo akawuka ...</td>\n",
       "      <td>Waliwo abalimi abagamba nti waliwo akawuka aka...</td>\n",
       "      <td>lug</td>\n",
       "    </tr>\n",
       "    <tr>\n",
       "      <th>11656</th>\n",
       "      <td>audio_5fbb599834f5e4.44398828.wav</td>\n",
       "      <td>6.69</td>\n",
       "      <td>A: Kasobola okutanndika okwelolera okw'oyo mun...</td>\n",
       "      <td>Kasobola okutanndika okwelolera okw'oyo munnaf...</td>\n",
       "      <td>lug</td>\n",
       "    </tr>\n",
       "    <tr>\n",
       "      <th>11657</th>\n",
       "      <td>audio_5fbb5995e1d4f0.09520054.wav</td>\n",
       "      <td>6.09</td>\n",
       "      <td>A: [um] kalabikira mu colour enzirugavu wabula...</td>\n",
       "      <td>Kalabikira mu colour enzirugavu wabula wekaba ...</td>\n",
       "      <td>lug</td>\n",
       "    </tr>\n",
       "  </tbody>\n",
       "</table>\n",
       "<p>11627 rows × 5 columns</p>\n",
       "</div>"
      ],
      "text/plain": [
       "                            wav_filename  duration  \\\n",
       "0      audio_5fa142ebac4bd8.60517665.wav      8.01   \n",
       "1      audio_5fa142e82c8907.10197122.wav      4.38   \n",
       "2      audio_5fa142f373f3a0.14347634.wav      5.37   \n",
       "3      audio_5fa142ef6fb398.44234122.wav      4.53   \n",
       "4      audio_5fa142e69bf891.02819656.wav      3.96   \n",
       "...                                  ...       ...   \n",
       "11653  audio_5fbb5995c0b7a2.33101378.wav      8.97   \n",
       "11654  audio_5fbb5995a7aef9.81027427.wav      8.76   \n",
       "11655  audio_5fbb599764e022.13421389.wav      8.67   \n",
       "11656  audio_5fbb599834f5e4.44398828.wav      6.69   \n",
       "11657  audio_5fbb5995e1d4f0.09520054.wav      6.09   \n",
       "\n",
       "                                              transcript  \\\n",
       "0      A: Banyonyola bulungi mu lulimi lweba[part] lw...   \n",
       "1      A: Abataddemu ensimbi okulaba nti program eno ...   \n",
       "2      A: Wamu n'ennima ey'omulembe ey'rmwanyi ebeera...   \n",
       "3      A: Ndi mulimisa\\nB: [um] sebo\\nA: Era nkola n'...   \n",
       "4      A: Oba munkola eno\\nB: [um]\\nA: Tukolagana n'e...   \n",
       "...                                                  ...   \n",
       "11653  A: Mubutuufu oblwadde webujja bujja kuba eyo [...   \n",
       "11654  A: Okubeera nga ekiriisa kyanguwa okutuuka ku ...   \n",
       "11655  A: Waliwo abalimi abagamba nti waliwo akawuka ...   \n",
       "11656  A: Kasobola okutanndika okwelolera okw'oyo mun...   \n",
       "11657  A: [um] kalabikira mu colour enzirugavu wabula...   \n",
       "\n",
       "                                      cleaned_transcript audio_language  \n",
       "0      Banyonyola bulungi mu lulimi lweba lwebategeer...            lug  \n",
       "1      Abataddemu ensimbi okulaba nti program eno ekw...            lug  \n",
       "2      Wamu n'ennima ey'omulembe ey'rmwanyi ebeerawo ...            lug  \n",
       "3      Ndi mulimisa. Sebo. Era nkola n'ekitongole eky...            lug  \n",
       "4      Oba munkola eno. Tukolagana n'ekitongole ekya ...            lug  \n",
       "...                                                  ...            ...  \n",
       "11653  Mubutuufu oblwadde webujja bujja kuba eyo olab...            lug  \n",
       "11654  Okubeera nga ekiriisa kyanguwa okutuuka ku mil...            lug  \n",
       "11655  Waliwo abalimi abagamba nti waliwo akawuka aka...            lug  \n",
       "11656  Kasobola okutanndika okwelolera okw'oyo munnaf...            lug  \n",
       "11657  Kalabikira mu colour enzirugavu wabula wekaba ...            lug  \n",
       "\n",
       "[11627 rows x 5 columns]"
      ]
     },
     "execution_count": 8,
     "metadata": {},
     "output_type": "execute_result"
    }
   ],
   "source": [
    "df[df.audio_language == 'lug']"
   ]
  },
  {
   "cell_type": "code",
   "execution_count": 37,
   "metadata": {
    "colab": {
     "base_uri": "https://localhost:8080/"
    },
    "id": "S7zq6Z8IFg6r",
    "outputId": "87cd53d1-1507-49d9-89cb-58908a578fa0"
   },
   "outputs": [],
   "source": [
    "!rm audio_folder/data/*.mp3"
   ]
  },
  {
   "cell_type": "code",
   "execution_count": 40,
   "metadata": {
    "id": "ZbHYTj6SAPQf"
   },
   "outputs": [
    {
     "data": {
      "application/vnd.jupyter.widget-view+json": {
       "model_id": "6d198052b4af4a7297cb0304016de577",
       "version_major": 2,
       "version_minor": 0
      },
      "text/plain": [
       "  0%|          | 0/11658 [00:00<?, ?it/s]"
      ]
     },
     "metadata": {},
     "output_type": "display_data"
    }
   ],
   "source": [
    "!mkdir -p audio_folder/data\n",
    "\n",
    "def compress_audio(i):\n",
    "  source_audio = f'audio/{df[\"wav_filename\"][i]}'\n",
    "  compressed_audio = f'audio_folder/data/{i:05}.mp3'\n",
    "\n",
    "  # Omit any entries with short or missing transcripts\n",
    "  if os.path.exists(source_audio) and len(df.cleaned_transcript[i]) > 5:\n",
    "    try:\n",
    "      subprocess.run(\n",
    "          [\n",
    "              'ffmpeg', '-hide_banner', '-loglevel', 'error',\n",
    "              '-y', '-i', source_audio,\n",
    "              compressed_audio\n",
    "          ],\n",
    "          check=True)\n",
    "    except FileNotFoundError:\n",
    "      print(\"ffmpeg not found. Please install ffmpeg.\")\n",
    "    except subprocess.CalledProcessError as e:\n",
    "      print(f\"Conversion failed with error: {e}\")\n",
    "\n",
    "with multiprocessing.Pool(processes=20) as pool:\n",
    "  for _ in tqdm(pool.imap_unordered(\n",
    "      compress_audio, df.index), total=len(df)):\n",
    "    pass"
   ]
  },
  {
   "cell_type": "code",
   "execution_count": 41,
   "metadata": {
    "id": "bpL4ac6hGULQ"
   },
   "outputs": [],
   "source": [
    "metadata = pd.DataFrame()\n",
    "metadata['file_name'] = [f'data/{i:05}.mp3' for i in df.index]\n",
    "metadata['id'] = list(df.index)\n",
    "metadata['text'] = list(df.cleaned_transcript)\n",
    "metadata['audio_language'] = list(df.audio_language)\n",
    "\n",
    "# Filter out the entries with no audio\n",
    "metadata = metadata[metadata['file_name'].apply(\n",
    "    lambda x: os.path.exists(os.path.join(f'audio_folder', x)))]\n",
    "\n",
    "metadata.to_csv(f'audio_folder/metadata.csv', index=False)"
   ]
  },
  {
   "cell_type": "code",
   "execution_count": 42,
   "metadata": {
    "id": "lTRHjON0Gwm_"
   },
   "outputs": [
    {
     "data": {
      "application/vnd.jupyter.widget-view+json": {
       "model_id": "4b2fff46137a4c98ba5541d6091a8425",
       "version_major": 2,
       "version_minor": 0
      },
      "text/plain": [
       "Resolving data files:   0%|          | 0/10868 [00:00<?, ?it/s]"
      ]
     },
     "metadata": {},
     "output_type": "display_data"
    },
    {
     "data": {
      "application/vnd.jupyter.widget-view+json": {
       "model_id": "bd508215be9540aa8e5da7aeb5124a8d",
       "version_major": 2,
       "version_minor": 0
      },
      "text/plain": [
       "Downloading data:   0%|          | 0/10868 [00:00<?, ?files/s]"
      ]
     },
     "metadata": {},
     "output_type": "display_data"
    },
    {
     "data": {
      "application/vnd.jupyter.widget-view+json": {
       "model_id": "c517d86901624d0bbfa6a717fbca072b",
       "version_major": 2,
       "version_minor": 0
      },
      "text/plain": [
       "Generating train split: 0 examples [00:00, ? examples/s]"
      ]
     },
     "metadata": {},
     "output_type": "display_data"
    }
   ],
   "source": [
    "dataset = datasets.load_dataset(\"audiofolder\", data_dir=f\"audio_folder\")"
   ]
  },
  {
   "cell_type": "code",
   "execution_count": 43,
   "metadata": {},
   "outputs": [
    {
     "data": {
      "application/vnd.jupyter.widget-view+json": {
       "model_id": "4d4075132d6c4477a8bb8c350d60caa6",
       "version_major": 2,
       "version_minor": 0
      },
      "text/plain": [
       "Uploading the dataset shards:   0%|          | 0/1 [00:00<?, ?it/s]"
      ]
     },
     "metadata": {},
     "output_type": "display_data"
    },
    {
     "data": {
      "application/vnd.jupyter.widget-view+json": {
       "model_id": "27123914bf2948cb932f514f6e542bb3",
       "version_major": 2,
       "version_minor": 0
      },
      "text/plain": [
       "Map:   0%|          | 0/10867 [00:00<?, ? examples/s]"
      ]
     },
     "metadata": {},
     "output_type": "display_data"
    },
    {
     "data": {
      "application/vnd.jupyter.widget-view+json": {
       "model_id": "318b85c8babb42c9aceaa2fe5190d4b3",
       "version_major": 2,
       "version_minor": 0
      },
      "text/plain": [
       "Creating parquet from Arrow format:   0%|          | 0/109 [00:00<?, ?ba/s]"
      ]
     },
     "metadata": {},
     "output_type": "display_data"
    },
    {
     "data": {
      "application/vnd.jupyter.widget-view+json": {
       "model_id": "86d23459dc544204badd6779d2fe1aac",
       "version_major": 2,
       "version_minor": 0
      },
      "text/plain": [
       "README.md:   0%|          | 0.00/2.95k [00:00<?, ?B/s]"
      ]
     },
     "metadata": {},
     "output_type": "display_data"
    },
    {
     "data": {
      "text/plain": [
       "CommitInfo(commit_url='https://huggingface.co/datasets/Sunbird/external-speech-data/commit/68aa393e2484b49bf164057c7a40977ae3ebb184', commit_message='Upload dataset', commit_description='', oid='68aa393e2484b49bf164057c7a40977ae3ebb184', pr_url=None, repo_url=RepoUrl('https://huggingface.co/datasets/Sunbird/external-speech-data', endpoint='https://huggingface.co', repo_type='dataset', repo_id='Sunbird/external-speech-data'), pr_revision=None, pr_num=None)"
      ]
     },
     "execution_count": 43,
     "metadata": {},
     "output_type": "execute_result"
    }
   ],
   "source": [
    "dataset.push_to_hub(\n",
    "    'Sunbird/external-speech-data', config_name=f'makerere-radio-speech', private=True)"
   ]
  },
  {
   "cell_type": "code",
   "execution_count": null,
   "metadata": {},
   "outputs": [],
   "source": []
  }
 ],
 "metadata": {
  "colab": {
   "provenance": []
  },
  "kernelspec": {
   "display_name": "Python 3 (ipykernel)",
   "language": "python",
   "name": "python3"
  },
  "language_info": {
   "codemirror_mode": {
    "name": "ipython",
    "version": 3
   },
   "file_extension": ".py",
   "mimetype": "text/x-python",
   "name": "python",
   "nbconvert_exporter": "python",
   "pygments_lexer": "ipython3",
   "version": "3.10.13"
  }
 },
 "nbformat": 4,
 "nbformat_minor": 4
}
