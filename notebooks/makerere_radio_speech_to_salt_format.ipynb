{
 "cells": [
  {
   "cell_type": "code",
   "execution_count": null,
   "metadata": {
    "id": "sryzEPpZ3c9E"
   },
   "outputs": [],
   "source": [
    "!pip install -q datasets\n",
    "!pip install -q soundfile"
   ]
  },
  {
   "cell_type": "code",
   "execution_count": null,
   "metadata": {
    "id": "ROuLmS2l3s-e"
   },
   "outputs": [],
   "source": [
    "import datasets\n",
    "import numpy as np\n",
    "import pandas as pd\n",
    "import re\n",
    "import string\n",
    "import os\n",
    "import subprocess\n",
    "from tqdm.notebook import tqdm\n",
    "import multiprocessing\n",
    "import huggingface_hub"
   ]
  },
  {
   "cell_type": "code",
   "execution_count": null,
   "metadata": {},
   "outputs": [],
   "source": [
    "huggingface_hub.notebook_login()"
   ]
  },
  {
   "cell_type": "code",
   "execution_count": null,
   "metadata": {
    "id": "Qncf7pzQ5vZN"
   },
   "outputs": [],
   "source": [
    "!wget https://huggingface.co/datasets/allandclive/MakerereRadioSpeech_20Hrs/resolve/main/audio.zip\n",
    "!wget https://huggingface.co/datasets/allandclive/MakerereRadioSpeech_20Hrs/raw/main/uncleaned.csv\n",
    "!unzip -q audio.zip"
   ]
  },
  {
   "cell_type": "code",
   "execution_count": null,
   "metadata": {
    "id": "vtU63lXz6Slg"
   },
   "outputs": [],
   "source": [
    "df = pd.read_csv('uncleaned.csv')"
   ]
  },
  {
   "cell_type": "code",
   "execution_count": null,
   "metadata": {
    "colab": {
     "base_uri": "https://localhost:8080/"
    },
    "id": "UZNK60Q37swC",
    "outputId": "c0f88112-5745-41e4-f7df-11f7d4aeda60"
   },
   "outputs": [],
   "source": [
    "def remove_multiple_spaces(text):\n",
    "  return re.sub(r'\\s+', ' ', text)\n",
    "\n",
    "def sentence_case(input_string):\n",
    "  if len(input_string) < 3:\n",
    "    return input_string\n",
    "  formatted_string = input_string[0].upper() + input_string[1:]\n",
    "  if formatted_string[-1] not in string.punctuation:\n",
    "    formatted_string += '.'\n",
    "  return formatted_string\n",
    "\n",
    "def remove_spaces_between_capitals(text):\n",
    "    # Use regex to find uppercase letters with spaces in between and merge them\n",
    "    return re.sub(r'(?<=[A-Z])\\s+(?=[A-Z])', '', text)\n",
    "\n",
    "def format_single_line(text):\n",
    "  text = text.replace('A:', '')\n",
    "  text = text.replace('B:', '')\n",
    "  text = text.replace('[um]', '')\n",
    "  text = text.replace('[part]', '')\n",
    "  text = text.replace('[en]', '')\n",
    "  text = text.strip()\n",
    "  text = sentence_case(text)\n",
    "  text = remove_spaces_between_capitals(text)\n",
    "  return text\n",
    "\n",
    "def format_lines(text):\n",
    "  parts = text.split('\\n')\n",
    "  parts = [format_single_line(part) for part in parts]\n",
    "  parts = [part for part in parts if len(part)>1]\n",
    "  text = ' '.join(parts)\n",
    "  text = remove_multiple_spaces(text)\n",
    "  return text\n",
    "\n",
    "def get_language(text):\n",
    "  return 'eng' if '[en]' in text else 'lug'\n",
    "\n",
    "df['cleaned_transcript'] = df['transcript'].apply(format_lines)\n",
    "\n",
    "df['audio_language'] = df['transcript'].apply(get_language)\n",
    "\n",
    "for i in range(2000, 2010):\n",
    "  print(df['cleaned_transcript'][i])"
   ]
  },
  {
   "cell_type": "code",
   "execution_count": null,
   "metadata": {
    "colab": {
     "base_uri": "https://localhost:8080/",
     "height": 424
    },
    "id": "otNjEE_YCgIC",
    "outputId": "1ba11940-76b0-490a-d876-40f22a8044c5"
   },
   "outputs": [],
   "source": [
    "df[df.audio_language == 'lug']"
   ]
  },
  {
   "cell_type": "code",
   "execution_count": null,
   "metadata": {
    "colab": {
     "base_uri": "https://localhost:8080/"
    },
    "id": "S7zq6Z8IFg6r",
    "outputId": "87cd53d1-1507-49d9-89cb-58908a578fa0"
   },
   "outputs": [],
   "source": [
    "!rm audio_folder/data/*.mp3"
   ]
  },
  {
   "cell_type": "code",
   "execution_count": null,
   "metadata": {
    "id": "ZbHYTj6SAPQf"
   },
   "outputs": [],
   "source": [
    "!mkdir -p audio_folder/data\n",
    "\n",
    "def compress_audio(i):\n",
    "  source_audio = f'audio/{df[\"wav_filename\"][i]}'\n",
    "  compressed_audio = f'audio_folder/data/{i:05}.mp3'\n",
    "\n",
    "  # Omit any entries with short or missing transcripts\n",
    "  if os.path.exists(source_audio) and len(df.cleaned_transcript[i]) > 5:\n",
    "    try:\n",
    "      subprocess.run(\n",
    "          [\n",
    "              'ffmpeg', '-hide_banner', '-loglevel', 'error',\n",
    "              '-y', '-i', source_audio,\n",
    "              compressed_audio\n",
    "          ],\n",
    "          check=True)\n",
    "    except FileNotFoundError:\n",
    "      print(\"ffmpeg not found. Please install ffmpeg.\")\n",
    "    except subprocess.CalledProcessError as e:\n",
    "      print(f\"Conversion failed with error: {e}\")\n",
    "\n",
    "with multiprocessing.Pool(processes=20) as pool:\n",
    "  for _ in tqdm(pool.imap_unordered(\n",
    "      compress_audio, df.index), total=len(df)):\n",
    "    pass"
   ]
  },
  {
   "cell_type": "code",
   "execution_count": null,
   "metadata": {
    "id": "bpL4ac6hGULQ"
   },
   "outputs": [],
   "source": [
    "metadata = pd.DataFrame()\n",
    "metadata['file_name'] = [f'data/{i:05}.mp3' for i in df.index]\n",
    "metadata['id'] = list(df.index)\n",
    "metadata['text'] = list(df.cleaned_transcript)\n",
    "metadata['audio_language'] = list(df.audio_language)\n",
    "\n",
    "# Filter out the entries with no audio\n",
    "metadata = metadata[metadata['file_name'].apply(\n",
    "    lambda x: os.path.exists(os.path.join(f'audio_folder', x)))]\n",
    "\n",
    "metadata.to_csv(f'audio_folder/metadata.csv', index=False)"
   ]
  },
  {
   "cell_type": "code",
   "execution_count": null,
   "metadata": {
    "id": "lTRHjON0Gwm_"
   },
   "outputs": [],
   "source": [
    "dataset = datasets.load_dataset(\"audiofolder\", data_dir=f\"audio_folder\")"
   ]
  },
  {
   "cell_type": "code",
   "execution_count": null,
   "metadata": {},
   "outputs": [],
   "source": [
    "dataset.push_to_hub(\n",
    "    'Sunbird/external-speech-data', config_name=f'makerere-radio-speech', private=True)"
   ]
  },
  {
   "cell_type": "code",
   "execution_count": null,
   "metadata": {},
   "outputs": [],
   "source": []
  }
 ],
 "metadata": {
  "colab": {
   "provenance": []
  },
  "kernelspec": {
   "display_name": "Python 3 (ipykernel)",
   "language": "python",
   "name": "python3"
  },
  "language_info": {
   "codemirror_mode": {
    "name": "ipython",
    "version": 3
   },
   "file_extension": ".py",
   "mimetype": "text/x-python",
   "name": "python",
   "nbconvert_exporter": "python",
   "pygments_lexer": "ipython3",
   "version": "3.10.13"
  }
 },
 "nbformat": 4,
 "nbformat_minor": 4
}
