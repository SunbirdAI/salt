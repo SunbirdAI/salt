{
  "nbformat": 4,
  "nbformat_minor": 0,
  "metadata": {
    "colab": {
      "provenance": [],
      "gpuType": "T4",
      "authorship_tag": "ABX9TyOmH7bXcej8nJO6L9IXQhEP",
      "include_colab_link": true
    },
    "kernelspec": {
      "name": "python3",
      "display_name": "Python 3"
    },
    "language_info": {
      "name": "python"
    },
    "accelerator": "GPU"
  },
  "cells": [
    {
      "cell_type": "markdown",
      "metadata": {
        "id": "view-in-github",
        "colab_type": "text"
      },
      "source": [
        "<a href=\"https://colab.research.google.com/github/SunbirdAI/salt/blob/main/notebooks/ASR_correction_model_usage_(FLAN_T5).ipynb\" target=\"_parent\"><img src=\"https://colab.research.google.com/assets/colab-badge.svg\" alt=\"Open In Colab\"/></a>"
      ]
    },
    {
      "cell_type": "code",
      "execution_count": 1,
      "metadata": {
        "id": "ey1a-rMSvcvD"
      },
      "outputs": [],
      "source": [
        "import transformers\n",
        "import torch"
      ]
    },
    {
      "cell_type": "code",
      "source": [
        "correction_tokenizer = transformers.T5Tokenizer.from_pretrained(\n",
        "    'jq/asr-correction-flan-t5')\n",
        "correction_model = transformers.T5ForConditionalGeneration.from_pretrained(\n",
        "    'jq/asr-correction-flan-t5')"
      ],
      "metadata": {
        "id": "hITV0ax1vmBP"
      },
      "execution_count": null,
      "outputs": []
    },
    {
      "cell_type": "code",
      "source": [
        "def correct(asr_text):\n",
        "  device = torch.device(\"cuda\" if torch.cuda.is_available() else \"cpu\")\n",
        "\n",
        "  inputs = correction_tokenizer(asr_text, return_tensors=\"pt\").to(device)\n",
        "  translated_tokens = correction_model.to(device).generate(\n",
        "      **inputs,\n",
        "      max_new_tokens=250,\n",
        "      num_beams=20,\n",
        "  )\n",
        "\n",
        "  result = correction_tokenizer.batch_decode(\n",
        "      translated_tokens, skip_special_tokens=True)[0]\n",
        "  return result"
      ],
      "metadata": {
        "id": "1XjOqOLHvtBM"
      },
      "execution_count": 3,
      "outputs": []
    },
    {
      "cell_type": "markdown",
      "source": [
        "Example of correcting raw output from ASR model."
      ],
      "metadata": {
        "id": "xW095GcPwWTU"
      }
    },
    {
      "cell_type": "code",
      "source": [
        "correct(\"optionban ani n'ekyalo gyennaly eyo waliwo domestic violence ey'abafumbo\")"
      ],
      "metadata": {
        "colab": {
          "base_uri": "https://localhost:8080/",
          "height": 38
        },
        "id": "_7EHaryPwMaa",
        "outputId": "a79461ef-2e79-4d60-af4f-992881de8063"
      },
      "execution_count": 5,
      "outputs": [
        {
          "output_type": "execute_result",
          "data": {
            "text/plain": [
              "\"Option B. Ani n'ekyalo gyennaly eyo waliwo domestic violence ey'abafumbo.\""
            ],
            "application/vnd.google.colaboratory.intrinsic+json": {
              "type": "string"
            }
          },
          "metadata": {},
          "execution_count": 5
        }
      ]
    },
    {
      "cell_type": "markdown",
      "source": [
        "Example of correcting ASR output with phonetic uncertainty (uncertain characters in brackets)."
      ],
      "metadata": {
        "id": "blktZq_gwaJ0"
      }
    },
    {
      "cell_type": "code",
      "source": [
        "correct(\"optionban ani n'ekyalo gy(')e(n )nal(yi)(o) eyo waliwo domestic violence ey'abafumbo\")"
      ],
      "metadata": {
        "colab": {
          "base_uri": "https://localhost:8080/",
          "height": 38
        },
        "id": "buL6uF4dwA6Z",
        "outputId": "a14c5f34-4362-4b1c-fa1b-279f7076b77a"
      },
      "execution_count": 4,
      "outputs": [
        {
          "output_type": "execute_result",
          "data": {
            "text/plain": [
              "\"Option B. Ani n'ekyalo gy'e, nali eyo waliwo domestic violence ey'abafumbo.\""
            ],
            "application/vnd.google.colaboratory.intrinsic+json": {
              "type": "string"
            }
          },
          "metadata": {},
          "execution_count": 4
        }
      ]
    },
    {
      "cell_type": "markdown",
      "source": [
        "This model doesn't need the language to be specified, and handles all the SALT Ugandan languages."
      ],
      "metadata": {
        "id": "G7Wgvplpwq8W"
      }
    },
    {
      "cell_type": "code",
      "source": [
        "correct(\"hy jus coming the hospital everything was goodnothing bad but the problem is i didn't get even single medicine that is my problem but like a toilet everything is very clean\")"
      ],
      "metadata": {
        "colab": {
          "base_uri": "https://localhost:8080/",
          "height": 55
        },
        "id": "sArVhHl8wUTH",
        "outputId": "a2010cd6-d2be-40f0-8c8d-439ecc67ec83"
      },
      "execution_count": 6,
      "outputs": [
        {
          "output_type": "execute_result",
          "data": {
            "text/plain": [
              "\"He just came the hospital. Everything was good, nothing bad. But the problem is, I didn't get even one medicine that is my problem. But like a toilet, everything is very clean.\""
            ],
            "application/vnd.google.colaboratory.intrinsic+json": {
              "type": "string"
            }
          },
          "metadata": {},
          "execution_count": 6
        }
      ]
    },
    {
      "cell_type": "code",
      "source": [],
      "metadata": {
        "id": "WLrY9NlGxC6R"
      },
      "execution_count": null,
      "outputs": []
    }
  ]
}