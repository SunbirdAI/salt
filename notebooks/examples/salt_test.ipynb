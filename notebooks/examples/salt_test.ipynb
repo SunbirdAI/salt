{
 "cells": [
  {
   "cell_type": "markdown",
   "id": "7c5cc710-10fa-4cce-9660-f6411c7d3b14",
   "metadata": {},
   "source": [
    "Notebook for testing of SALT functions on a local machine."
   ]
  },
  {
   "cell_type": "code",
   "execution_count": null,
   "id": "cbed12e4-cf71-4d7b-9bfe-b4e3e57c17b2",
   "metadata": {},
   "outputs": [],
   "source": [
    "import sys\n",
    "sys.path.append('../../..')\n",
    "import salt.dataset\n",
    "import salt.utils\n",
    "import yaml"
   ]
  },
  {
   "cell_type": "markdown",
   "id": "4660897f-5955-4584-bbec-22b89c20ab63",
   "metadata": {},
   "source": [
    "## One-to-multiple translation: English text to Luganda and Acholi text"
   ]
  },
  {
   "cell_type": "code",
   "execution_count": null,
   "id": "12e3e539-f3cf-43bc-9a6d-3fe7d279637c",
   "metadata": {},
   "outputs": [],
   "source": [
    "yaml_config = '''\n",
    "huggingface_load:   \n",
    "  path: Sunbird/salt\n",
    "  split: train\n",
    "  name: text-all\n",
    "source:\n",
    "  type: text\n",
    "  language: eng\n",
    "  preprocessing:\n",
    "      - prefix_target_language\n",
    "target:\n",
    "  type: text\n",
    "  language: [lug, ach]\n",
    "'''\n",
    "\n",
    "config = yaml.safe_load(yaml_config)\n",
    "ds = salt.dataset.create(config)\n",
    "salt.utils.show_dataset(ds, N=5)"
   ]
  },
  {
   "cell_type": "markdown",
   "id": "55754081-7441-4b69-94f4-bd757cc150fe",
   "metadata": {},
   "source": [
    "## ASR: Luganda speech to text"
   ]
  },
  {
   "cell_type": "code",
   "execution_count": null,
   "id": "9718be7e-8a57-4501-9ea3-c82aa1071616",
   "metadata": {},
   "outputs": [],
   "source": [
    "yaml_config = '''\n",
    "huggingface_load:\n",
    "    path: Sunbird/salt\n",
    "    split: train\n",
    "    name: multispeaker-lug\n",
    "source:\n",
    "  type: speech\n",
    "  language: lug\n",
    "target:\n",
    "  type: text\n",
    "  language: lug\n",
    "'''\n",
    "\n",
    "config = yaml.safe_load(yaml_config)\n",
    "ds = salt.dataset.create(config)\n",
    "\n",
    "salt.utils.show_dataset(ds, audio_features=['source'], N=10)"
   ]
  },
  {
   "cell_type": "markdown",
   "id": "4d97f769-cb7c-454d-9e0f-5184c5235a59",
   "metadata": {},
   "source": [
    "Example of adding some preprocessing operations to both the audio and the text."
   ]
  },
  {
   "cell_type": "code",
   "execution_count": null,
   "id": "e2f8582f-12f9-4b0b-807e-5fc617e15b64",
   "metadata": {},
   "outputs": [],
   "source": [
    "yaml_config = '''\n",
    "huggingface_load:\n",
    "    path: Sunbird/salt\n",
    "    split: train\n",
    "    name: multispeaker-lug\n",
    "source:\n",
    "  type: speech\n",
    "  language: lug\n",
    "  preprocessing:\n",
    "    - normalize_audio\n",
    "    - augment_audio_speed:\n",
    "        low: 0.95\n",
    "        high: 1.15\n",
    "    - augment_audio_noise:\n",
    "        max_relative_amplitude: 0.5\n",
    "        noise_audio_repo:\n",
    "            path: Sunbird/urban-noise\n",
    "            name: small\n",
    "            split: train\n",
    "target:\n",
    "  type: text\n",
    "  language: lug\n",
    "  preprocessing:\n",
    "    - ensure_text_ends_with_punctuation\n",
    "'''\n",
    "\n",
    "config = yaml.safe_load(yaml_config)\n",
    "ds = salt.dataset.create(config)\n",
    "\n",
    "salt.utils.show_dataset(ds, audio_features=['source'], N=10)"
   ]
  },
  {
   "cell_type": "markdown",
   "id": "3188f513-1dc0-4c24-8dd3-10d16cc81757",
   "metadata": {},
   "source": [
    "## ASR: Combine Common Voice and SALT\n",
    "\n",
    "This example also shows multilingual ASR data, with a mixture of Luganda and English."
   ]
  },
  {
   "cell_type": "code",
   "execution_count": null,
   "id": "422fe3b8-0aa0-4e73-b5d4-473a534debde",
   "metadata": {},
   "outputs": [],
   "source": [
    "%%time\n",
    "yaml_config = '''\n",
    "huggingface_load:\n",
    "  - path: mozilla-foundation/common_voice_13_0\n",
    "    split: train[:5000]\n",
    "    name: lg\n",
    "  - path: sunbird/salt\n",
    "    name: multispeaker-eng\n",
    "    split: train\n",
    "source:\n",
    "  type: speech\n",
    "  language: [lug,eng]\n",
    "  preprocessing:\n",
    "    - set_sample_rate:\n",
    "        rate: 16_000\n",
    "target:\n",
    "  type: text\n",
    "  language: [lug,eng]\n",
    "  preprocessing:\n",
    "    - clean_and_remove_punctuation\n",
    "    - lower_case\n",
    "shuffle: True\n",
    "'''\n",
    "\n",
    "config = yaml.safe_load(yaml_config)\n",
    "ds = salt.dataset.create(config)\n",
    "\n",
    "salt.utils.show_dataset(ds, audio_features=['source'], N=5)"
   ]
  },
  {
   "cell_type": "markdown",
   "id": "ea53bc17-6c27-46e5-9748-4c0290c2db63",
   "metadata": {},
   "source": [
    "## Speech translation: Acholi speech to English text"
   ]
  },
  {
   "cell_type": "code",
   "execution_count": null,
   "id": "a757cda1-d865-4537-b4a8-49366be54d15",
   "metadata": {},
   "outputs": [],
   "source": [
    "yaml_config = '''\n",
    "huggingface_load:\n",
    "  join:\n",
    "    - path: Sunbird/salt\n",
    "      split: train\n",
    "      name: text-all\n",
    "    - path: Sunbird/salt\n",
    "      split: train\n",
    "      name: multispeaker-ach\n",
    "source:\n",
    "  type: speech\n",
    "  language: ach\n",
    "target:\n",
    "  type: text\n",
    "  language: eng\n",
    "  preprocessing:\n",
    "    - clean_and_remove_punctuation\n",
    "    - lower_case\n",
    "'''\n",
    "\n",
    "config = yaml.safe_load(yaml_config)\n",
    "ds = salt.dataset.create(config)\n",
    "\n",
    "salt.utils.show_dataset(ds.take(5), audio_features=['source'])"
   ]
  },
  {
   "cell_type": "markdown",
   "id": "515ab3e9-a2f4-43f0-b6e8-93849e1818bf",
   "metadata": {},
   "source": [
    "## Random augmentation"
   ]
  },
  {
   "cell_type": "code",
   "execution_count": null,
   "id": "bdf11ca7-548c-4303-8be7-e5f609beb4e3",
   "metadata": {},
   "outputs": [],
   "source": [
    "yaml_config = '''\n",
    "huggingface_load:   \n",
    "  path: Sunbird/salt\n",
    "  split: train\n",
    "  name: text-all\n",
    "source:\n",
    "  type: text\n",
    "  language: eng\n",
    "  preprocessing:\n",
    "    - augment_characters:\n",
    "          action: swap\n",
    "          spec_char: None\n",
    "          include_numeric: False\n",
    "          aug_word_p: 0.1\n",
    "          aug_word_min: 0\n",
    "    - prefix_target_language\n",
    "target:\n",
    "  type: text\n",
    "  language: [lug, ach, teo, ibo]\n",
    "'''\n",
    "\n",
    "config = yaml.safe_load(yaml_config)\n",
    "ds = salt.dataset.create(config)"
   ]
  },
  {
   "cell_type": "code",
   "execution_count": null,
   "id": "103466fd-232f-4008-8880-067abfca5ecf",
   "metadata": {},
   "outputs": [],
   "source": [
    "salt.utils.show_dataset(ds, N=10)"
   ]
  },
  {
   "cell_type": "markdown",
   "id": "e6829060-8cd9-43ae-91b9-c1709c41dfc9",
   "metadata": {},
   "source": [
    "## Reloading the module for debugging\n",
    "\n",
    "Note that some HuggingFace cache files have to be also deleted, and some library references, to avoid unexpected behaviour when updating code."
   ]
  },
  {
   "cell_type": "code",
   "execution_count": null,
   "id": "55c838ef-a0ea-42db-b838-02f866bb9ab7",
   "metadata": {},
   "outputs": [],
   "source": [
    "from importlib import reload\n",
    "reload(salt.dataset)\n",
    "reload(salt.utils)\n",
    "reload(salt.dataset.preprocessing)\n",
    "!rm -rf ~/.cache/huggingface/datasets/generator/*"
   ]
  },
  {
   "cell_type": "code",
   "execution_count": null,
   "id": "9ee96909-ae2b-4672-9119-0dd1b0616869",
   "metadata": {},
   "outputs": [],
   "source": []
  }
 ],
 "metadata": {
  "kernelspec": {
   "display_name": "Python 3 (ipykernel)",
   "language": "python",
   "name": "python3"
  },
  "language_info": {
   "codemirror_mode": {
    "name": "ipython",
    "version": 3
   },
   "file_extension": ".py",
   "mimetype": "text/x-python",
   "name": "python",
   "nbconvert_exporter": "python",
   "pygments_lexer": "ipython3",
   "version": "3.9.7"
  }
 },
 "nbformat": 4,
 "nbformat_minor": 5
}
