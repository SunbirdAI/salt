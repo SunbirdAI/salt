{
 "cells": [
  {
   "cell_type": "markdown",
   "id": "907b105b-33c7-400e-b21b-346dae411e6c",
   "metadata": {},
   "source": [
    "Pack samples from Common Voice so that we fit as many as possible into clips of less than 30 seconds. This can improve the effciency of training as we have fewer empty samples. It also speeds up the dataset download time, as the HuggingFace Common Voice repositories contain many large files that we don't need."
   ]
  },
  {
   "cell_type": "code",
   "execution_count": null,
   "id": "4411df72-8432-44d8-993f-d51eaa911138",
   "metadata": {},
   "outputs": [],
   "source": [
    "!pip install -q datasets\n",
    "!pip install -q wget\n",
    "!pip install -q soundfile\n",
    "!pip install -q librosa\n",
    "!pip install -q pydub"
   ]
  },
  {
   "cell_type": "code",
   "execution_count": null,
   "id": "b6ab11c5-7ca7-42f7-b779-c35e0ec72101",
   "metadata": {},
   "outputs": [],
   "source": [
    "import pandas as pd\n",
    "import datasets\n",
    "import numpy as np\n",
    "import subprocess\n",
    "import multiprocessing\n",
    "from tqdm.notebook import tqdm\n",
    "import os\n",
    "import wget\n",
    "import huggingface_hub\n",
    "import string\n",
    "from IPython import display\n",
    "import pydub"
   ]
  },
  {
   "cell_type": "code",
   "execution_count": null,
   "id": "4afe7244-4d0f-4e47-ace6-7b224563c16e",
   "metadata": {},
   "outputs": [],
   "source": [
    "huggingface_hub.notebook_login()"
   ]
  },
  {
   "cell_type": "code",
   "execution_count": null,
   "id": "5d14be02-63aa-476c-9703-d78e87f1119c",
   "metadata": {},
   "outputs": [],
   "source": [
    "CV_SUBSET = 'lg'\n",
    "LANGUAGE_CODE = 'lug'"
   ]
  },
  {
   "cell_type": "code",
   "execution_count": null,
   "id": "43334b14-12e0-46ab-8bbc-126e2ca45d63",
   "metadata": {},
   "outputs": [],
   "source": [
    "ds = datasets.load_dataset(\n",
    "    'mozilla-foundation/common_voice_16_0', name=CV_SUBSET, split='train',\n",
    "    trust_remote_code=True, num_proc=10)\n",
    "ds = ds.cast_column(\"audio\", datasets.Audio(sampling_rate=16000))"
   ]
  },
  {
   "cell_type": "code",
   "execution_count": null,
   "id": "88137eb8-d18f-499c-bac0-5cbe59e1e229",
   "metadata": {},
   "outputs": [],
   "source": [
    "from concurrent.futures import ProcessPoolExecutor, as_completed\n",
    "import numpy as np\n",
    "import pydub\n",
    "from tqdm import tqdm\n",
    "import os\n",
    "\n",
    "max_length_seconds = 30.0\n",
    "max_length_samples = 16000 * max_length_seconds\n",
    "\n",
    "def process_audio_batch(index, packed, language_code):\n",
    "    \"\"\"Process a batch of audio and save it as an MP3 file.\"\"\"\n",
    "    transcript = ' '.join(packed[1])\n",
    "    file_name = f\"data/{LANGUAGE_CODE}_{index:05}.mp3\"\n",
    "    file_path = f\"audio_folder_{LANGUAGE_CODE}/{file_name}\"\n",
    "    if not os.path.exists(file_path):\n",
    "        audio_data = np.concatenate(packed[0])\n",
    "        audio_data = (audio_data * 32767).astype(np.int16)\n",
    "        pydub_audio = pydub.AudioSegment(\n",
    "            audio_data.tobytes(), frame_rate=16000, sample_width=2, channels=1)\n",
    "        os.makedirs(os.path.dirname(file_path), exist_ok=True)  # Ensure output folder exists\n",
    "        pydub_audio.export(file_path, format=\"mp3\")\n",
    "    return transcript, file_name\n",
    "\n",
    "def sentence_case(input_string):\n",
    "  if len(input_string) < 3:\n",
    "    return input_string\n",
    "  formatted_string = input_string[0].upper() + input_string[1:]\n",
    "  if formatted_string[-1] not in string.punctuation:\n",
    "    formatted_string += '.'\n",
    "  return formatted_string\n",
    "    \n",
    "def sample_packing_generator(test_run=False):\n",
    "    current_samples = []\n",
    "    current_transcripts = []\n",
    "    num_yielded = 0\n",
    "    for i in range(len(ds)):\n",
    "        try:\n",
    "            example = ds[i] # sometimes fails with mp3 format error\n",
    "            if (np.sum([len(s) for s in current_samples])\n",
    "                + len(example['audio']['array'])) > max_length_samples:\n",
    "                yield current_samples, current_transcripts\n",
    "                num_yielded += 1\n",
    "                if test_run and num_yielded > 10:\n",
    "                    break\n",
    "                current_samples = [example['audio']['array']]\n",
    "                current_transcripts = [sentence_case(example['sentence'])]\n",
    "            else:\n",
    "                current_samples.append(example['audio']['array'])\n",
    "                current_transcripts.append(sentence_case(example['sentence']))  \n",
    "        except:\n",
    "            print(f'problem decoding {i}')\n",
    "\n",
    "transcripts = []\n",
    "file_paths = []\n",
    "\n",
    "with ProcessPoolExecutor(max_workers=16) as executor:\n",
    "    futures = []\n",
    "    progress_bar = tqdm(total=0, unit=\"task\", position=0)\n",
    "    \n",
    "    # Dynamically add tasks to the executor\n",
    "    for i, packed in enumerate(sample_packing_generator()):\n",
    "        futures.append(executor.submit(process_audio_batch, i, packed, LANGUAGE_CODE))\n",
    "        progress_bar.total += 1  # Increase the total task count dynamically\n",
    "        progress_bar.refresh()   # Update the progress bar display\n",
    "\n",
    "    # Wait for tasks to complete and update the progress bar\n",
    "    for future in as_completed(futures):\n",
    "        try:\n",
    "            transcript, file_path = future.result()\n",
    "            transcripts.append(transcript)\n",
    "            file_paths.append(file_path)\n",
    "        except Exception as e:\n",
    "            print(f\"Task failed: {e}\")\n",
    "        progress_bar.update(1)  # Increment completed task count\n",
    "\n",
    "progress_bar.close()"
   ]
  },
  {
   "cell_type": "code",
   "execution_count": null,
   "id": "940407b5-3a75-4d12-9f9f-9f356737275a",
   "metadata": {},
   "outputs": [],
   "source": [
    "metadata = pd.DataFrame()\n",
    "metadata['file_name'] = file_paths\n",
    "metadata['id'] = range(len(file_paths))\n",
    "metadata['text'] = transcripts\n",
    "metadata['language'] = LANGUAGE_CODE\n",
    "\n",
    "# Filter out the entries with no audio\n",
    "metadata = metadata[metadata['file_name'].apply(\n",
    "    lambda x: os.path.exists(os.path.join(f'audio_folder_{LANGUAGE_CODE}', x)))]\n",
    "\n",
    "metadata.to_csv(f'audio_folder_{LANGUAGE_CODE}/metadata.csv', index=False)"
   ]
  },
  {
   "cell_type": "code",
   "execution_count": null,
   "id": "b29f8b9e-2617-49de-974f-010e045efbe1",
   "metadata": {},
   "outputs": [],
   "source": [
    "dataset = datasets.load_dataset(\"audiofolder\", data_dir=f\"audio_folder_{LANGUAGE_CODE}\")"
   ]
  },
  {
   "cell_type": "code",
   "execution_count": null,
   "id": "6f0723e7-982e-45b2-81b6-19c3fa667f6d",
   "metadata": {},
   "outputs": [],
   "source": [
    "index = 6543\n",
    "dataset['train'][index]"
   ]
  },
  {
   "cell_type": "code",
   "execution_count": null,
   "id": "6431744e-f56f-405a-bb43-08fb41c6454e",
   "metadata": {},
   "outputs": [],
   "source": [
    "display.Audio(dataset['train'][index]['audio']['array'], rate=16000)"
   ]
  },
  {
   "cell_type": "code",
   "execution_count": null,
   "id": "ae78ae4b-2efb-463f-9a50-5740236b940a",
   "metadata": {},
   "outputs": [],
   "source": [
    "dataset.push_to_hub(\n",
    "    'Sunbird/external-speech-data', config_name=f'common-voice-sample-packed-lug', private=True)"
   ]
  },
  {
   "cell_type": "code",
   "execution_count": null,
   "id": "192e6ca5-9018-4571-8916-9622942280de",
   "metadata": {},
   "outputs": [],
   "source": []
  }
 ],
 "metadata": {
  "kernelspec": {
   "display_name": "Python 3 (ipykernel)",
   "language": "python",
   "name": "python3"
  },
  "language_info": {
   "codemirror_mode": {
    "name": "ipython",
    "version": 3
   },
   "file_extension": ".py",
   "mimetype": "text/x-python",
   "name": "python",
   "nbconvert_exporter": "python",
   "pygments_lexer": "ipython3",
   "version": "3.10.13"
  }
 },
 "nbformat": 4,
 "nbformat_minor": 5
}
