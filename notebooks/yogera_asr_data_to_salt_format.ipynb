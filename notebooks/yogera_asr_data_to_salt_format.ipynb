{
 "cells": [
  {
   "cell_type": "code",
   "execution_count": null,
   "metadata": {
    "id": "nNbzQuV4IQQE"
   },
   "outputs": [],
   "source": [
    "!pip install -q datasets\n",
    "!pip install -q wget\n",
    "!pip install -q soundfile\n",
    "!pip install librosa"
   ]
  },
  {
   "cell_type": "code",
   "execution_count": null,
   "metadata": {
    "id": "zNGKs5GYIMp7"
   },
   "outputs": [],
   "source": [
    "import pandas as pd\n",
    "import datasets\n",
    "import numpy as np\n",
    "import subprocess\n",
    "import multiprocessing\n",
    "import tqdm.notebook as tqdm\n",
    "import os\n",
    "import wget\n",
    "import huggingface_hub"
   ]
  },
  {
   "cell_type": "code",
   "execution_count": null,
   "metadata": {},
   "outputs": [],
   "source": [
    "huggingface_hub.notebook_login()"
   ]
  },
  {
   "cell_type": "code",
   "execution_count": null,
   "metadata": {},
   "outputs": [],
   "source": [
    "language = 'Lumasaba'\n",
    "language_code = 'myx'"
   ]
  },
  {
   "cell_type": "code",
   "execution_count": null,
   "metadata": {
    "id": "1Jx2sWjfbJ3V"
   },
   "outputs": [],
   "source": [
    "df = pd.read_csv('https://raw.githubusercontent.com/AI-Lab-Makerere/'\n",
    "                 f'Yogera-Dataset-Metadata/main/version_5.0.1/{language_code}/'\n",
    "                 'transcribed_and_reviewed.csv')"
   ]
  },
  {
   "cell_type": "code",
   "execution_count": null,
   "metadata": {
    "id": "-yPN1zjYbfDK"
   },
   "outputs": [],
   "source": [
    "# Whisper can only be trained with examples of 30 seconds or less\n",
    "df = df[df.duration < (30 / 3600)]"
   ]
  },
  {
   "cell_type": "code",
   "execution_count": null,
   "metadata": {},
   "outputs": [],
   "source": [
    "df"
   ]
  },
  {
   "cell_type": "code",
   "execution_count": null,
   "metadata": {
    "id": "_TPfcy-xdlfc"
   },
   "outputs": [],
   "source": [
    "AUDIO_PATH_PREFIX = f'https://storage.googleapis.com/yogera_voices_backup/{language}/'\n",
    "\n",
    "def download_and_compress_audio(i, verbose=False):\n",
    "\n",
    "  audio_path = AUDIO_PATH_PREFIX + df.voice_clip[i]\n",
    "  destination_filename_uncompressed = f'{language_code}_{i:05}.wav'\n",
    "  destination_filename_compressed = f'audio_folder_{language_code}/data/{language_code}_{i:05}.mp3'\n",
    "\n",
    "  !mkdir -p audio_folder_{language_code}/data\n",
    "\n",
    "  if not os.path.exists(destination_filename_uncompressed):\n",
    "    try:\n",
    "      wget.download(audio_path, out=destination_filename_uncompressed)\n",
    "    except:\n",
    "      if verbose:\n",
    "        print(f'Failed to download {audio_path}')\n",
    "\n",
    "  if os.path.exists(destination_filename_uncompressed):\n",
    "    # Compress the downloaded WAV file to OGG\n",
    "    try:\n",
    "      subprocess.run(\n",
    "          [\n",
    "              'ffmpeg', '-hide_banner', '-loglevel', 'error',\n",
    "              '-y', '-i', destination_filename_uncompressed,\n",
    "              destination_filename_compressed\n",
    "          ],\n",
    "          check=True)\n",
    "    except FileNotFoundError:\n",
    "      print(\"ffmpeg not found. Please install ffmpeg.\")\n",
    "    except subprocess.CalledProcessError as e:\n",
    "      print(f\"Conversion failed with error: {e}\")\n",
    "\n",
    "\n",
    "with multiprocessing.Pool(processes=20) as pool:\n",
    "  for _ in tqdm.tqdm(pool.imap_unordered(\n",
    "      download_and_compress_audio, df.index), total=len(df)):\n",
    "    pass"
   ]
  },
  {
   "cell_type": "code",
   "execution_count": null,
   "metadata": {
    "id": "aPsn2PXPQH_S"
   },
   "outputs": [],
   "source": [
    "metadata = pd.DataFrame()\n",
    "metadata['file_name'] = [f'data/{language_code}_{i:05}.mp3' for i in df.index]\n",
    "metadata['id'] = list(df.index)\n",
    "metadata['text'] = list(df.transcript)\n",
    "metadata['audio_language'] = language_code\n",
    "metadata['is_studio'] = False\n",
    "metadata['speaker_id'] = list(df.contributor_id)\n",
    "\n",
    "# Filter out the entries with no audio\n",
    "metadata = metadata[metadata['file_name'].apply(\n",
    "    lambda x: os.path.exists(os.path.join(f'audio_folder_{language_code}', x)))]\n",
    "\n",
    "metadata.to_csv(f'audio_folder_{language_code}/metadata.csv', index=False)"
   ]
  },
  {
   "cell_type": "code",
   "execution_count": null,
   "metadata": {
    "id": "ZBzvYgK6THg2"
   },
   "outputs": [],
   "source": [
    "metadata"
   ]
  },
  {
   "cell_type": "code",
   "execution_count": null,
   "metadata": {
    "id": "cy5j675HTUhx"
   },
   "outputs": [],
   "source": [
    "dataset = datasets.load_dataset(\"audiofolder\", data_dir=f\"audio_folder_{language_code}\")"
   ]
  },
  {
   "cell_type": "code",
   "execution_count": null,
   "metadata": {},
   "outputs": [],
   "source": [
    "dataset"
   ]
  },
  {
   "cell_type": "code",
   "execution_count": null,
   "metadata": {
    "id": "qJh1Ig4WTAnz"
   },
   "outputs": [],
   "source": [
    "dataset.push_to_hub(\n",
    "    'Sunbird/external-speech-data', config_name=f'makerere-yogera-{language_code}', private=True)"
   ]
  },
  {
   "cell_type": "code",
   "execution_count": null,
   "metadata": {},
   "outputs": [],
   "source": [
    "test_dataset = datasets.load_dataset(\n",
    "    'Sunbird/external-speech-data', f'makerere-yogera-{language_code}', split='train')"
   ]
  },
  {
   "cell_type": "code",
   "execution_count": null,
   "metadata": {},
   "outputs": [],
   "source": []
  }
 ],
 "metadata": {
  "colab": {
   "provenance": []
  },
  "kernelspec": {
   "display_name": "Python 3 (ipykernel)",
   "language": "python",
   "name": "python3"
  },
  "language_info": {
   "codemirror_mode": {
    "name": "ipython",
    "version": 3
   },
   "file_extension": ".py",
   "mimetype": "text/x-python",
   "name": "python",
   "nbconvert_exporter": "python",
   "pygments_lexer": "ipython3",
   "version": "3.10.13"
  }
 },
 "nbformat": 4,
 "nbformat_minor": 4
}
