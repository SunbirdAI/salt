{
 "cells": [
  {
   "cell_type": "code",
   "execution_count": null,
   "metadata": {
    "id": "nNbzQuV4IQQE"
   },
   "outputs": [],
   "source": [
    "!pip install -q datasets\n",
    "!pip install -q wget\n",
    "!pip install -q soundfile\n",
    "!pip install librosa"
   ]
  },
  {
   "cell_type": "code",
   "execution_count": null,
   "metadata": {
    "id": "zNGKs5GYIMp7"
   },
   "outputs": [],
   "source": [
    "import pandas as pd\n",
    "import datasets\n",
    "import numpy as np\n",
    "import subprocess\n",
    "import multiprocessing\n",
    "import tqdm.notebook as tqdm\n",
    "import os\n",
    "import wget\n",
    "import huggingface_hub"
   ]
  },
  {
   "cell_type": "code",
   "execution_count": null,
   "metadata": {},
   "outputs": [],
   "source": [
    "huggingface_hub.notebook_login()"
   ]
  },
  {
   "cell_type": "code",
   "execution_count": 113,
   "metadata": {},
   "outputs": [],
   "source": [
    "language = 'Lumasaba'\n",
    "language_code = 'myx'"
   ]
  },
  {
   "cell_type": "code",
   "execution_count": 115,
   "metadata": {
    "id": "1Jx2sWjfbJ3V"
   },
   "outputs": [],
   "source": [
    "df = pd.read_csv('https://raw.githubusercontent.com/AI-Lab-Makerere/'\n",
    "                 f'Yogera-Dataset-Metadata/main/version_5.0.1/{language_code}/'\n",
    "                 'transcribed_and_reviewed.csv')"
   ]
  },
  {
   "cell_type": "code",
   "execution_count": 116,
   "metadata": {
    "id": "-yPN1zjYbfDK"
   },
   "outputs": [],
   "source": [
    "# Whisper can only be trained with examples of 30 seconds or less\n",
    "df = df[df.duration < (30 / 3600)]"
   ]
  },
  {
   "cell_type": "code",
   "execution_count": null,
   "metadata": {},
   "outputs": [],
   "source": [
    "df"
   ]
  },
  {
   "cell_type": "code",
   "execution_count": 118,
   "metadata": {
    "id": "_TPfcy-xdlfc"
   },
   "outputs": [
    {
     "data": {
      "application/vnd.jupyter.widget-view+json": {
       "model_id": "121ec301e38c42ddbf518c74ceb31b70",
       "version_major": 2,
       "version_minor": 0
      },
      "text/plain": [
       "  0%|          | 0/8502 [00:00<?, ?it/s]"
      ]
     },
     "metadata": {},
     "output_type": "display_data"
    }
   ],
   "source": [
    "AUDIO_PATH_PREFIX = f'https://storage.googleapis.com/yogera_voices_backup/{language}/'\n",
    "\n",
    "def download_and_compress_audio(i, verbose=False):\n",
    "\n",
    "  audio_path = AUDIO_PATH_PREFIX + df.voice_clip[i]\n",
    "  destination_filename_uncompressed = f'{language_code}_{i:05}.wav'\n",
    "  destination_filename_compressed = f'audio_folder_{language_code}/data/{language_code}_{i:05}.mp3'\n",
    "\n",
    "  !mkdir -p audio_folder_{language_code}/data\n",
    "\n",
    "  if not os.path.exists(destination_filename_uncompressed):\n",
    "    try:\n",
    "      wget.download(audio_path, out=destination_filename_uncompressed)\n",
    "    except:\n",
    "      if verbose:\n",
    "        print(f'Failed to download {audio_path}')\n",
    "\n",
    "  if os.path.exists(destination_filename_uncompressed):\n",
    "    # Compress the downloaded WAV file to OGG\n",
    "    try:\n",
    "      subprocess.run(\n",
    "          [\n",
    "              'ffmpeg', '-hide_banner', '-loglevel', 'error',\n",
    "              '-y', '-i', destination_filename_uncompressed,\n",
    "              destination_filename_compressed\n",
    "          ],\n",
    "          check=True)\n",
    "    except FileNotFoundError:\n",
    "      print(\"ffmpeg not found. Please install ffmpeg.\")\n",
    "    except subprocess.CalledProcessError as e:\n",
    "      print(f\"Conversion failed with error: {e}\")\n",
    "\n",
    "\n",
    "with multiprocessing.Pool(processes=20) as pool:\n",
    "  for _ in tqdm.tqdm(pool.imap_unordered(\n",
    "      download_and_compress_audio, df.index), total=len(df)):\n",
    "    pass"
   ]
  },
  {
   "cell_type": "code",
   "execution_count": 119,
   "metadata": {
    "id": "aPsn2PXPQH_S"
   },
   "outputs": [],
   "source": [
    "metadata = pd.DataFrame()\n",
    "metadata['file_name'] = [f'data/{language_code}_{i:05}.mp3' for i in df.index]\n",
    "metadata['id'] = list(df.index)\n",
    "metadata['text'] = list(df.transcript)\n",
    "metadata['audio_language'] = language_code\n",
    "metadata['is_studio'] = False\n",
    "metadata['speaker_id'] = list(df.contributor_id)\n",
    "\n",
    "# Filter out the entries with no audio\n",
    "metadata = metadata[metadata['file_name'].apply(\n",
    "    lambda x: os.path.exists(os.path.join(f'audio_folder_{language_code}', x)))]\n",
    "\n",
    "metadata.to_csv(f'audio_folder_{language_code}/metadata.csv', index=False)"
   ]
  },
  {
   "cell_type": "code",
   "execution_count": 120,
   "metadata": {
    "id": "ZBzvYgK6THg2"
   },
   "outputs": [
    {
     "data": {
      "text/html": [
       "<div>\n",
       "<style scoped>\n",
       "    .dataframe tbody tr th:only-of-type {\n",
       "        vertical-align: middle;\n",
       "    }\n",
       "\n",
       "    .dataframe tbody tr th {\n",
       "        vertical-align: top;\n",
       "    }\n",
       "\n",
       "    .dataframe thead th {\n",
       "        text-align: right;\n",
       "    }\n",
       "</style>\n",
       "<table border=\"1\" class=\"dataframe\">\n",
       "  <thead>\n",
       "    <tr style=\"text-align: right;\">\n",
       "      <th></th>\n",
       "      <th>file_name</th>\n",
       "      <th>id</th>\n",
       "      <th>text</th>\n",
       "      <th>audio_language</th>\n",
       "      <th>is_studio</th>\n",
       "      <th>speaker_id</th>\n",
       "    </tr>\n",
       "  </thead>\n",
       "  <tbody>\n",
       "    <tr>\n",
       "      <th>60</th>\n",
       "      <td>data/myx_00063.mp3</td>\n",
       "      <td>63</td>\n",
       "      <td>Biseela bili bye kumuusi bulalo bwe bibyuma bw...</td>\n",
       "      <td>myx</td>\n",
       "      <td>False</td>\n",
       "      <td>691</td>\n",
       "    </tr>\n",
       "    <tr>\n",
       "      <th>61</th>\n",
       "      <td>data/myx_00064.mp3</td>\n",
       "      <td>64</td>\n",
       "      <td>Ano ndi kubonawo mezi magaali naabi, naboonemo...</td>\n",
       "      <td>myx</td>\n",
       "      <td>False</td>\n",
       "      <td>568</td>\n",
       "    </tr>\n",
       "    <tr>\n",
       "      <th>62</th>\n",
       "      <td>data/myx_00065.mp3</td>\n",
       "      <td>65</td>\n",
       "      <td>Liguje limali lyahambile shindu mukhono kyehul...</td>\n",
       "      <td>myx</td>\n",
       "      <td>False</td>\n",
       "      <td>691</td>\n",
       "    </tr>\n",
       "    <tr>\n",
       "      <th>63</th>\n",
       "      <td>data/myx_00066.mp3</td>\n",
       "      <td>66</td>\n",
       "      <td>Umusetsa ali khu pikiki ali khu fuga, khupikik...</td>\n",
       "      <td>myx</td>\n",
       "      <td>False</td>\n",
       "      <td>691</td>\n",
       "    </tr>\n",
       "    <tr>\n",
       "      <th>64</th>\n",
       "      <td>data/myx_00067.mp3</td>\n",
       "      <td>67</td>\n",
       "      <td>Gano manyonyi gesi balanga kaloli magali gabus...</td>\n",
       "      <td>myx</td>\n",
       "      <td>False</td>\n",
       "      <td>594</td>\n",
       "    </tr>\n",
       "    <tr>\n",
       "      <th>...</th>\n",
       "      <td>...</td>\n",
       "      <td>...</td>\n",
       "      <td>...</td>\n",
       "      <td>...</td>\n",
       "      <td>...</td>\n",
       "      <td>...</td>\n",
       "    </tr>\n",
       "    <tr>\n",
       "      <th>8497</th>\n",
       "      <td>data/myx_09073.mp3</td>\n",
       "      <td>9073</td>\n",
       "      <td>Bapangile tsibendela tsingali tse kamanambo ka...</td>\n",
       "      <td>myx</td>\n",
       "      <td>False</td>\n",
       "      <td>2899</td>\n",
       "    </tr>\n",
       "    <tr>\n",
       "      <th>8498</th>\n",
       "      <td>data/myx_09074.mp3</td>\n",
       "      <td>9074</td>\n",
       "      <td>Tsimotokha tsingali tsili mu'town ni babandu b...</td>\n",
       "      <td>myx</td>\n",
       "      <td>False</td>\n",
       "      <td>2525</td>\n",
       "    </tr>\n",
       "    <tr>\n",
       "      <th>8499</th>\n",
       "      <td>data/myx_09075.mp3</td>\n",
       "      <td>9075</td>\n",
       "      <td>Syinywinywi namwe ingosi isi balanga bari naka...</td>\n",
       "      <td>myx</td>\n",
       "      <td>False</td>\n",
       "      <td>2617</td>\n",
       "    </tr>\n",
       "    <tr>\n",
       "      <th>8500</th>\n",
       "      <td>data/myx_09076.mp3</td>\n",
       "      <td>9076</td>\n",
       "      <td>Bakhaasi babili bali mukhatale mutwela ali khu...</td>\n",
       "      <td>myx</td>\n",
       "      <td>False</td>\n",
       "      <td>2525</td>\n",
       "    </tr>\n",
       "    <tr>\n",
       "      <th>8501</th>\n",
       "      <td>data/myx_09077.mp3</td>\n",
       "      <td>9077</td>\n",
       "      <td>Khu'meetsi elah nga kameetsi Kano kamagyi naab...</td>\n",
       "      <td>myx</td>\n",
       "      <td>False</td>\n",
       "      <td>2692</td>\n",
       "    </tr>\n",
       "  </tbody>\n",
       "</table>\n",
       "<p>7743 rows × 6 columns</p>\n",
       "</div>"
      ],
      "text/plain": [
       "               file_name    id  \\\n",
       "60    data/myx_00063.mp3    63   \n",
       "61    data/myx_00064.mp3    64   \n",
       "62    data/myx_00065.mp3    65   \n",
       "63    data/myx_00066.mp3    66   \n",
       "64    data/myx_00067.mp3    67   \n",
       "...                  ...   ...   \n",
       "8497  data/myx_09073.mp3  9073   \n",
       "8498  data/myx_09074.mp3  9074   \n",
       "8499  data/myx_09075.mp3  9075   \n",
       "8500  data/myx_09076.mp3  9076   \n",
       "8501  data/myx_09077.mp3  9077   \n",
       "\n",
       "                                                   text audio_language  \\\n",
       "60    Biseela bili bye kumuusi bulalo bwe bibyuma bw...            myx   \n",
       "61    Ano ndi kubonawo mezi magaali naabi, naboonemo...            myx   \n",
       "62    Liguje limali lyahambile shindu mukhono kyehul...            myx   \n",
       "63    Umusetsa ali khu pikiki ali khu fuga, khupikik...            myx   \n",
       "64    Gano manyonyi gesi balanga kaloli magali gabus...            myx   \n",
       "...                                                 ...            ...   \n",
       "8497  Bapangile tsibendela tsingali tse kamanambo ka...            myx   \n",
       "8498  Tsimotokha tsingali tsili mu'town ni babandu b...            myx   \n",
       "8499  Syinywinywi namwe ingosi isi balanga bari naka...            myx   \n",
       "8500  Bakhaasi babili bali mukhatale mutwela ali khu...            myx   \n",
       "8501  Khu'meetsi elah nga kameetsi Kano kamagyi naab...            myx   \n",
       "\n",
       "      is_studio  speaker_id  \n",
       "60        False         691  \n",
       "61        False         568  \n",
       "62        False         691  \n",
       "63        False         691  \n",
       "64        False         594  \n",
       "...         ...         ...  \n",
       "8497      False        2899  \n",
       "8498      False        2525  \n",
       "8499      False        2617  \n",
       "8500      False        2525  \n",
       "8501      False        2692  \n",
       "\n",
       "[7743 rows x 6 columns]"
      ]
     },
     "execution_count": 120,
     "metadata": {},
     "output_type": "execute_result"
    }
   ],
   "source": [
    "metadata"
   ]
  },
  {
   "cell_type": "code",
   "execution_count": 121,
   "metadata": {
    "id": "cy5j675HTUhx"
   },
   "outputs": [
    {
     "data": {
      "application/vnd.jupyter.widget-view+json": {
       "model_id": "57a5240f23404f7890f6179effb95b4a",
       "version_major": 2,
       "version_minor": 0
      },
      "text/plain": [
       "Resolving data files:   0%|          | 0/7744 [00:00<?, ?it/s]"
      ]
     },
     "metadata": {},
     "output_type": "display_data"
    },
    {
     "data": {
      "application/vnd.jupyter.widget-view+json": {
       "model_id": "b9a5cd8238bb40a483889243726907ff",
       "version_major": 2,
       "version_minor": 0
      },
      "text/plain": [
       "Downloading data:   0%|          | 0/7744 [00:00<?, ?files/s]"
      ]
     },
     "metadata": {},
     "output_type": "display_data"
    },
    {
     "data": {
      "application/vnd.jupyter.widget-view+json": {
       "model_id": "e9ed591402884457b9861415d99fcdb3",
       "version_major": 2,
       "version_minor": 0
      },
      "text/plain": [
       "Generating train split: 0 examples [00:00, ? examples/s]"
      ]
     },
     "metadata": {},
     "output_type": "display_data"
    }
   ],
   "source": [
    "dataset = datasets.load_dataset(\"audiofolder\", data_dir=f\"audio_folder_{language_code}\")"
   ]
  },
  {
   "cell_type": "code",
   "execution_count": 122,
   "metadata": {},
   "outputs": [
    {
     "data": {
      "text/plain": [
       "DatasetDict({\n",
       "    train: Dataset({\n",
       "        features: ['audio', 'id', 'text', 'audio_language', 'is_studio', 'speaker_id'],\n",
       "        num_rows: 7743\n",
       "    })\n",
       "})"
      ]
     },
     "execution_count": 122,
     "metadata": {},
     "output_type": "execute_result"
    }
   ],
   "source": [
    "dataset"
   ]
  },
  {
   "cell_type": "code",
   "execution_count": 123,
   "metadata": {
    "id": "qJh1Ig4WTAnz"
   },
   "outputs": [
    {
     "data": {
      "application/vnd.jupyter.widget-view+json": {
       "model_id": "21b9d8478c0a48dba7303f6120755d42",
       "version_major": 2,
       "version_minor": 0
      },
      "text/plain": [
       "Uploading the dataset shards:   0%|          | 0/1 [00:00<?, ?it/s]"
      ]
     },
     "metadata": {},
     "output_type": "display_data"
    },
    {
     "data": {
      "application/vnd.jupyter.widget-view+json": {
       "model_id": "42f1da4516e44949bda7758bdb56fab5",
       "version_major": 2,
       "version_minor": 0
      },
      "text/plain": [
       "Map:   0%|          | 0/7743 [00:00<?, ? examples/s]"
      ]
     },
     "metadata": {},
     "output_type": "display_data"
    },
    {
     "data": {
      "application/vnd.jupyter.widget-view+json": {
       "model_id": "f65f3a2e69e74fc2bd9c04ef28d1f264",
       "version_major": 2,
       "version_minor": 0
      },
      "text/plain": [
       "Creating parquet from Arrow format:   0%|          | 0/78 [00:00<?, ?ba/s]"
      ]
     },
     "metadata": {},
     "output_type": "display_data"
    },
    {
     "data": {
      "application/vnd.jupyter.widget-view+json": {
       "model_id": "2584a44775a8418dada3f2b1626b137c",
       "version_major": 2,
       "version_minor": 0
      },
      "text/plain": [
       "README.md:   0%|          | 0.00/2.03k [00:00<?, ?B/s]"
      ]
     },
     "metadata": {},
     "output_type": "display_data"
    },
    {
     "data": {
      "text/plain": [
       "CommitInfo(commit_url='https://huggingface.co/datasets/Sunbird/external-speech-data/commit/c75b11283a2ae58581918e4283983ed3dc352c67', commit_message='Upload dataset', commit_description='', oid='c75b11283a2ae58581918e4283983ed3dc352c67', pr_url=None, repo_url=RepoUrl('https://huggingface.co/datasets/Sunbird/external-speech-data', endpoint='https://huggingface.co', repo_type='dataset', repo_id='Sunbird/external-speech-data'), pr_revision=None, pr_num=None)"
      ]
     },
     "execution_count": 123,
     "metadata": {},
     "output_type": "execute_result"
    }
   ],
   "source": [
    "dataset.push_to_hub(\n",
    "    'Sunbird/external-speech-data', config_name=f'makerere-yogera-{language_code}', private=True)"
   ]
  },
  {
   "cell_type": "code",
   "execution_count": 66,
   "metadata": {},
   "outputs": [
    {
     "data": {
      "application/vnd.jupyter.widget-view+json": {
       "model_id": "667d07f1c41b4b27a467e918d9f3f3ca",
       "version_major": 2,
       "version_minor": 0
      },
      "text/plain": [
       "README.md:   0%|          | 0.00/530 [00:00<?, ?B/s]"
      ]
     },
     "metadata": {},
     "output_type": "display_data"
    },
    {
     "data": {
      "application/vnd.jupyter.widget-view+json": {
       "model_id": "f690df148a60459ea34745cfb841d28f",
       "version_major": 2,
       "version_minor": 0
      },
      "text/plain": [
       "train-00000-of-00001.parquet:   0%|          | 0.00/278M [00:00<?, ?B/s]"
      ]
     },
     "metadata": {},
     "output_type": "display_data"
    },
    {
     "data": {
      "application/vnd.jupyter.widget-view+json": {
       "model_id": "c1ad15668ca94658982889b3fec71eb4",
       "version_major": 2,
       "version_minor": 0
      },
      "text/plain": [
       "Generating train split:   0%|          | 0/4496 [00:00<?, ? examples/s]"
      ]
     },
     "metadata": {},
     "output_type": "display_data"
    }
   ],
   "source": [
    "test_dataset = datasets.load_dataset(\n",
    "    'Sunbird/external-speech-data', f'makerere-yogera-{language_code}', split='train')"
   ]
  },
  {
   "cell_type": "code",
   "execution_count": null,
   "metadata": {},
   "outputs": [],
   "source": []
  }
 ],
 "metadata": {
  "colab": {
   "provenance": []
  },
  "kernelspec": {
   "display_name": "Python 3 (ipykernel)",
   "language": "python",
   "name": "python3"
  },
  "language_info": {
   "codemirror_mode": {
    "name": "ipython",
    "version": 3
   },
   "file_extension": ".py",
   "mimetype": "text/x-python",
   "name": "python",
   "nbconvert_exporter": "python",
   "pygments_lexer": "ipython3",
   "version": "3.10.13"
  }
 },
 "nbformat": 4,
 "nbformat_minor": 4
}
